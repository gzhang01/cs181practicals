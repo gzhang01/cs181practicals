{
 "cells": [
  {
   "cell_type": "code",
   "execution_count": 1,
   "metadata": {
    "collapsed": false
   },
   "outputs": [],
   "source": [
    "import numpy as np\n",
    "import csv\n",
    "from kNN import KNN\n",
    "import pandas as pd"
   ]
  },
  {
   "cell_type": "code",
   "execution_count": 2,
   "metadata": {
    "collapsed": true
   },
   "outputs": [],
   "source": [
    "train_file = 'data/train-exp.csv'"
   ]
  },
  {
   "cell_type": "code",
   "execution_count": 3,
   "metadata": {
    "collapsed": false
   },
   "outputs": [
    {
     "name": "stdout",
     "output_type": "stream",
     "text": [
      "Country\n",
      "Age\n",
      "Sex\n",
      "0 10000 20000 30000 40000 50000 60000 70000 80000 90000 100000 110000 120000 130000 140000 150000 160000 170000 180000 190000 200000 210000 220000 230000 240000 250000 260000 270000 280000 290000 300000 310000 320000 330000 340000 350000 360000 370000 380000 390000 400000 410000 420000 430000 440000 450000 460000 470000 480000 490000 500000 510000 520000 530000 540000 550000 560000 570000 580000 590000 600000 610000 620000 630000 640000 650000 660000 670000 680000 690000 700000 710000 720000 730000 740000 750000 760000 770000 780000 790000 800000 810000 820000 830000 840000 850000 860000 870000 880000 890000 900000 910000 920000 930000 940000 950000 960000 970000 980000 990000 1000000 1010000 1020000 1030000 1040000 1050000 1060000 1070000 1080000 1090000 1100000 1110000 1120000 1130000 1140000 1150000 1160000 1170000 1180000 1190000 1200000 1210000 1220000 1230000 1240000 1250000 1260000 1270000 1280000 1290000 1300000 1310000 1320000 1330000 1340000 1350000 1360000 1370000 1380000 1390000 1400000 1410000 1420000 1430000 1440000 1450000 1460000 1470000 1480000 1490000 1500000 1510000 1520000 1530000 1540000 1550000 1560000 1570000 1580000 1590000 1600000 1610000 1620000 1630000 1640000 1650000 1660000 1670000 1680000 1690000 1700000 1710000 1720000 1730000 1740000 1750000 1760000 1770000 1780000 1790000 1800000 1810000 1820000 1830000 1840000 1850000 1860000 1870000 1880000 1890000 1900000 1910000 1920000 1930000 1940000 1950000 1960000 1970000 1980000 1990000 2000000 2010000 2020000 2030000 2040000 2050000 2060000 2070000 2080000 2090000 2100000 2110000 2120000 2130000 2140000 2150000 2160000 2170000 2180000 2190000 2200000 2210000 2220000 2230000 2240000 2250000 2260000 2270000 2280000 2290000 2300000 2310000 2320000 2330000 2340000 2350000 2360000 2370000 2380000 2390000 2400000 2410000 2420000 2430000 2440000 2450000 2460000 2470000 2480000 2490000 2500000 2510000 2520000 2530000 2540000 2550000 2560000 2570000 2580000 2590000 2600000 2610000 2620000 2630000 2640000 2650000 2660000 2670000 2680000 2690000 2700000 2710000 2720000 2730000 2740000 2750000 2760000 2770000 2780000 2790000 2800000 2810000 2820000 2830000 2840000 2850000 2860000 2870000 2880000 2890000 2900000 2910000 2920000 2930000 2940000 2950000 2960000 2970000 2980000 2990000 3000000 3010000 3020000 3030000 3040000 3050000 3060000 3070000 3080000 3090000 3100000 3110000 3120000 3130000 3140000 3150000 3160000 3170000 3180000 3190000 3200000 3210000 3220000 3230000 3240000 3250000 3260000 3270000 3280000 3290000 3300000 3310000 3320000 3330000 3340000 3350000 3360000 3370000 3380000 3390000 3400000 3410000 3420000 3430000 3440000 3450000 3460000 3470000 3480000 3490000 3500000 3510000 3520000 3530000 3540000 3550000 3560000 3570000 3580000 3590000 3600000 3610000 3620000 3630000 3640000 3650000 3660000 3670000 3680000 3690000 3700000 3710000 3720000 3730000 3740000 3750000 3760000 3770000 3780000 3790000 3800000 3810000 3820000 3830000 3840000 3850000 3860000 3870000 3880000 3890000 3900000 3910000 3920000 3930000 3940000 3950000 3960000 3970000 3980000 3990000 4000000 4010000 4020000 4030000 4040000 4050000 4060000 4070000 4080000 4090000 4100000 4110000 4120000 4130000 4140000 4150000\n"
     ]
    }
   ],
   "source": [
    "all_data = {}\n",
    "test_data = []\n",
    "observations = []\n",
    "artists = [0]\n",
    "count = 0\n",
    "blocks = 10\n",
    "with open(train_file) as f:\n",
    "    line = f.readline()[:-1].split(\",\")\n",
    "    for artist in line[1:-3]:\n",
    "        all_data[artist] = {}\n",
    "        artists.append(artist)\n",
    "    \n",
    "    print line[-1]\n",
    "    print line[-2]\n",
    "    print line[-3]\n",
    "    \n",
    "    while True:\n",
    "        line = f.readline()\n",
    "        if line == \"\":\n",
    "            break\n",
    "\n",
    "        line = line[:-1].split(\",\")\n",
    "        country = line[-1]\n",
    "        sex = line[-3]\n",
    "        try:\n",
    "            age = int(float(line[-2]))\n",
    "        except:\n",
    "            age = 0\n",
    "        \n",
    "        for i in xrange(1, len(line) - 3):\n",
    "            try:\n",
    "                plays = int(float(line[i]))\n",
    "            except ValueError:\n",
    "                continue\n",
    "            if plays != 0:\n",
    "                if count % 10000 == 0:\n",
    "                    print count,\n",
    "                    \n",
    "                count += 1\n",
    "                artist = artists[i]\n",
    "                \n",
    "                # If multiple of blocks, append to test data\n",
    "                if count % blocks == 0:\n",
    "                    test_data.append([artist, country, sex, age])\n",
    "                    observations.append(plays)\n",
    "                    continue\n",
    "                \n",
    "                # Otherwise, put in training set\n",
    "                if not country in all_data[artist]:\n",
    "                    all_data[artist][country] = {}\n",
    "                if not sex in all_data[artist][country]:\n",
    "                    all_data[artist][country][sex] = {}\n",
    "                if not age in all_data[artist][country][sex]:\n",
    "                    all_data[artist][country][sex][age] = []\n",
    "                all_data[artist][country][sex][age].append(plays)\n",
    "        "
   ]
  },
  {
   "cell_type": "code",
   "execution_count": null,
   "metadata": {
    "collapsed": false
   },
   "outputs": [],
   "source": []
  },
  {
   "cell_type": "code",
   "execution_count": null,
   "metadata": {
    "collapsed": false
   },
   "outputs": [],
   "source": []
  },
  {
   "cell_type": "code",
   "execution_count": null,
   "metadata": {
    "collapsed": false
   },
   "outputs": [],
   "source": [
    "# blocks = 10\n",
    "# count = 0\n",
    "# X = []\n",
    "# y = []\n",
    "# testData = []\n",
    "# for i in xrange(rows):\n",
    "#     if i % 100 == 0:\n",
    "#         print i\n",
    "#     for j in xrange(1, 2001):\n",
    "#         plays = all_data.at[all_data.index[i], all_data.columns[j]]\n",
    "#         if plays != 0:\n",
    "#             count += 1\n",
    "#             x = []\n",
    "#             # Append artist, country, sex, age (in that order)\n",
    "#             x.append(all_data.columns[j])\n",
    "#             x.append(all_data.at[all_data.index[i], all_data.columns[2003]])\n",
    "#             x.append(all_data.at[all_data.index[i], all_data.columns[2001]])\n",
    "#             x.append(all_data.at[all_data.index[i], all_data.columns[2002]])\n",
    "#             if count % blocks == 0:\n",
    "#                 testData.append(x)\n",
    "#                 count = 0\n",
    "#                 continue\n",
    "#             X.append(x)\n",
    "#             y.append(plays)\n",
    "#     if i > 100:\n",
    "#         break"
   ]
  },
  {
   "cell_type": "code",
   "execution_count": 4,
   "metadata": {
    "collapsed": false
   },
   "outputs": [],
   "source": [
    "knn = KNN()\n",
    "knn.fit(all_data)"
   ]
  },
  {
   "cell_type": "code",
   "execution_count": 5,
   "metadata": {
    "collapsed": false
   },
   "outputs": [],
   "source": [
    "predictions = knn.predict(test_data)"
   ]
  },
  {
   "cell_type": "code",
   "execution_count": 8,
   "metadata": {
    "collapsed": false
   },
   "outputs": [
    {
     "name": "stdout",
     "output_type": "stream",
     "text": [
      "263.183526284\n"
     ]
    }
   ],
   "source": [
    "pred = np.array(predictions)\n",
    "obs = np.array(observations)\n",
    "print np.sum(np.absolute(pred - obs)) / pred.shape[0]"
   ]
  },
  {
   "cell_type": "code",
   "execution_count": null,
   "metadata": {
    "collapsed": true
   },
   "outputs": [],
   "source": [
    "# n: number of test elements to have\n",
    "def test(n):\n",
    "    print \"Starting\"\n",
    "    # Obtain data\n",
    "    train_data = copy.deepcopy(all_data)\n",
    "    \n",
    "    print \"Constructing test data\"\n",
    "    # Constructing test data\n",
    "    test_data = []\n",
    "    for i in xrange(n):\n",
    "        if i % 10 == 0:\n",
    "            print i\n",
    "        user = random.choice(train_data.keys())\n",
    "        artist = random.choice(train_data[user].keys())\n",
    "        test_data.append([user, artist, train_data[user][artist]])\n",
    "        train_data[user].pop(artist, None)\n",
    "        if not train_data[user]:\n",
    "            train_data.pop(user, None)\n",
    "        \n",
    "    gm = GlobalMedian()\n",
    "    print \"Fitting\"\n",
    "    gm.fit(train_data)\n",
    "    print \"Predicting\"\n",
    "    predictions = gm.predict(test_data)\n",
    "    print predictions[0]"
   ]
  },
  {
   "cell_type": "code",
   "execution_count": null,
   "metadata": {
    "collapsed": false
   },
   "outputs": [],
   "source": [
    "test(10000)"
   ]
  },
  {
   "cell_type": "code",
   "execution_count": null,
   "metadata": {
    "collapsed": true
   },
   "outputs": [],
   "source": []
  }
 ],
 "metadata": {
  "kernelspec": {
   "display_name": "Python 2",
   "language": "python",
   "name": "python2"
  },
  "language_info": {
   "codemirror_mode": {
    "name": "ipython",
    "version": 2
   },
   "file_extension": ".py",
   "mimetype": "text/x-python",
   "name": "python",
   "nbconvert_exporter": "python",
   "pygments_lexer": "ipython2",
   "version": "2.7.11"
  }
 },
 "nbformat": 4,
 "nbformat_minor": 0
}
