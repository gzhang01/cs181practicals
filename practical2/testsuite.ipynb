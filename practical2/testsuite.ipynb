{
 "cells": [
  {
   "cell_type": "code",
   "execution_count": 14,
   "metadata": {
    "collapsed": true
   },
   "outputs": [],
   "source": [
    "import pandas as pd\n",
    "import numpy as np\n",
    "import matplotlib.pyplot as plt\n",
    "from sklearn.naive_bayes import GaussianNB"
   ]
  },
  {
   "cell_type": "code",
   "execution_count": 40,
   "metadata": {
    "collapsed": true
   },
   "outputs": [],
   "source": [
    "# Imports features\n",
    "data = pd.read_csv(\"data/features.csv\")\n",
    "data = data.drop(['id'], axis = 1)"
   ]
  },
  {
   "cell_type": "code",
   "execution_count": 41,
   "metadata": {
    "collapsed": false
   },
   "outputs": [
    {
     "data": {
      "text/html": [
       "<div>\n",
       "<table border=\"1\" class=\"dataframe\">\n",
       "  <thead>\n",
       "    <tr style=\"text-align: right;\">\n",
       "      <th></th>\n",
       "      <th>dump_line</th>\n",
       "      <th>download_file</th>\n",
       "      <th>open_file</th>\n",
       "      <th>connect_socket</th>\n",
       "      <th>impersonate_user</th>\n",
       "      <th>classnum</th>\n",
       "    </tr>\n",
       "  </thead>\n",
       "  <tbody>\n",
       "    <tr>\n",
       "      <th>0</th>\n",
       "      <td>0</td>\n",
       "      <td>0</td>\n",
       "      <td>15</td>\n",
       "      <td>0</td>\n",
       "      <td>0</td>\n",
       "      <td>8</td>\n",
       "    </tr>\n",
       "    <tr>\n",
       "      <th>1</th>\n",
       "      <td>3434</td>\n",
       "      <td>0</td>\n",
       "      <td>241</td>\n",
       "      <td>12</td>\n",
       "      <td>12</td>\n",
       "      <td>6</td>\n",
       "    </tr>\n",
       "    <tr>\n",
       "      <th>2</th>\n",
       "      <td>0</td>\n",
       "      <td>0</td>\n",
       "      <td>0</td>\n",
       "      <td>0</td>\n",
       "      <td>0</td>\n",
       "      <td>12</td>\n",
       "    </tr>\n",
       "    <tr>\n",
       "      <th>3</th>\n",
       "      <td>0</td>\n",
       "      <td>0</td>\n",
       "      <td>21</td>\n",
       "      <td>0</td>\n",
       "      <td>0</td>\n",
       "      <td>8</td>\n",
       "    </tr>\n",
       "    <tr>\n",
       "      <th>4</th>\n",
       "      <td>636</td>\n",
       "      <td>0</td>\n",
       "      <td>12</td>\n",
       "      <td>2</td>\n",
       "      <td>0</td>\n",
       "      <td>10</td>\n",
       "    </tr>\n",
       "  </tbody>\n",
       "</table>\n",
       "</div>"
      ],
      "text/plain": [
       "   dump_line  download_file  open_file  connect_socket  impersonate_user  \\\n",
       "0          0              0         15               0                 0   \n",
       "1       3434              0        241              12                12   \n",
       "2          0              0          0               0                 0   \n",
       "3          0              0         21               0                 0   \n",
       "4        636              0         12               2                 0   \n",
       "\n",
       "   classnum  \n",
       "0         8  \n",
       "1         6  \n",
       "2        12  \n",
       "3         8  \n",
       "4        10  "
      ]
     },
     "execution_count": 41,
     "metadata": {},
     "output_type": "execute_result"
    }
   ],
   "source": [
    "data.head()"
   ]
  },
  {
   "cell_type": "code",
   "execution_count": 35,
   "metadata": {
    "collapsed": true
   },
   "outputs": [],
   "source": [
    "def calcAccuracy(pred, obs):\n",
    "    assert (pred.shape[0] == obs.shape[0])\n",
    "    correct = 0\n",
    "    for i in xrange(pred.shape[0]):\n",
    "        if pred[i] == obs[i]:\n",
    "            correct += 1\n",
    "    return 100.0 * correct / pred.shape[0]"
   ]
  },
  {
   "cell_type": "code",
   "execution_count": 45,
   "metadata": {
    "collapsed": true
   },
   "outputs": [],
   "source": [
    "def crossValidation(n):\n",
    "    # Determines size of blocks\n",
    "    dataSize = data.shape[0]\n",
    "    blockSize = dataSize / n\n",
    "    \n",
    "    # Percent correct\n",
    "    accuracy = []\n",
    "    \n",
    "    for i in xrange(n):\n",
    "        # Calculate start and end indices of validation data\n",
    "        start = i * blockSize\n",
    "        end = start + blockSize\n",
    "        \n",
    "        # Training and test data\n",
    "        featsTrain = pd.concat((data.iloc[0:start], data.iloc[end:dataSize]), axis=0)\n",
    "        featsTest = data.iloc[start:end]\n",
    "        \n",
    "        # Store classes\n",
    "        classTrain = featsTrain.classnum.values\n",
    "        featsTrain = featsTrain.drop(['classnum'], axis = 1)\n",
    "        classTest = featsTest.classnum.values\n",
    "        featsTest = featsTest.drop(['classnum'], axis = 1)\n",
    "        \n",
    "        # Training / testing values\n",
    "        valsTrain = featsTrain.values\n",
    "        valsTest = featsTest.values\n",
    "        \n",
    "        # Classifier goes here\n",
    "        C = GaussianNB()\n",
    "        C.fit(valsTrain, classTrain)\n",
    "        classPred = C.predict(valsTest)\n",
    "        \n",
    "        # Calculate accuracy\n",
    "        accuracy.append(calcAccuracy(classPred, classTest))\n",
    "        \n",
    "    print accuracy\n",
    "        \n",
    "    print \"Mean: \" + str(np.mean(accuracy))\n",
    "    print \"Variance: \" + str(np.var(accuracy))\n",
    "    print \"Std Dev: \" + str(np.std(accuracy))"
   ]
  },
  {
   "cell_type": "code",
   "execution_count": 46,
   "metadata": {
    "collapsed": false
   },
   "outputs": [
    {
     "name": "stdout",
     "output_type": "stream",
     "text": [
      "[14.61038961038961, 18.506493506493506, 14.935064935064934, 11.688311688311689, 13.311688311688311, 10.38961038961039, 13.636363636363637, 14.61038961038961, 14.935064935064934, 19.48051948051948]\n",
      "Mean: 14.6103896104\n",
      "Variance: 6.80974869287\n",
      "Std Dev: 2.60954951914\n"
     ]
    }
   ],
   "source": [
    "crossValidation(10)"
   ]
  },
  {
   "cell_type": "code",
   "execution_count": null,
   "metadata": {
    "collapsed": true
   },
   "outputs": [],
   "source": []
  }
 ],
 "metadata": {
  "kernelspec": {
   "display_name": "Python 2",
   "language": "python",
   "name": "python2"
  },
  "language_info": {
   "codemirror_mode": {
    "name": "ipython",
    "version": 2
   },
   "file_extension": ".py",
   "mimetype": "text/x-python",
   "name": "python",
   "nbconvert_exporter": "python",
   "pygments_lexer": "ipython2",
   "version": "2.7.11"
  }
 },
 "nbformat": 4,
 "nbformat_minor": 0
}
