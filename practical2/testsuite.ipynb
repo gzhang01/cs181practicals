{
 "cells": [
  {
   "cell_type": "code",
   "execution_count": 1,
   "metadata": {
    "collapsed": false
   },
   "outputs": [],
   "source": [
    "import pandas as pd\n",
    "import numpy as np\n",
    "import matplotlib.pyplot as plt\n",
    "from sklearn.naive_bayes import GaussianNB\n",
    "from GaussianGenerativeModel import GaussianGenerativeModel as GGM\n",
    "from sklearn.ensemble import RandomForestClassifier, AdaBoostClassifier, BaggingClassifier, ExtraTreesClassifier\n",
    "from util import write_predictions\n",
    "import os\n",
    "# seaborn is a way to make our plots not look like shit\n",
    "try:\n",
    "    import seaborn as sns\n",
    "except:\n",
    "    pass\n",
    "%matplotlib inline"
   ]
  },
  {
   "cell_type": "code",
   "execution_count": 123,
   "metadata": {
    "collapsed": true
   },
   "outputs": [],
   "source": [
    "# Use with train data\n",
    "data = pd.read_csv(\"data/featuresFromStrings.csv\")\n",
    "data = data.drop(['id'], axis = 1)"
   ]
  },
  {
   "cell_type": "code",
   "execution_count": 141,
   "metadata": {
    "collapsed": false
   },
   "outputs": [],
   "source": [
    "# Use with test data\n",
    "data = pd.read_csv(\"data/featuresFromStrings.csv\")\n",
    "test_data = pd.read_csv(\"data/featuresFromStringsTest.csv\")\n",
    "# data = data.drop(['id'], axis = 1)"
   ]
  },
  {
   "cell_type": "code",
   "execution_count": 149,
   "metadata": {
    "collapsed": false
   },
   "outputs": [
    {
     "data": {
      "text/plain": [
       "(3086, 24)"
      ]
     },
     "execution_count": 149,
     "metadata": {},
     "output_type": "execute_result"
    }
   ],
   "source": [
    "data.shape"
   ]
  },
  {
   "cell_type": "code",
   "execution_count": 150,
   "metadata": {
    "collapsed": false
   },
   "outputs": [
    {
     "data": {
      "text/plain": [
       "(3724, 24)"
      ]
     },
     "execution_count": 150,
     "metadata": {},
     "output_type": "execute_result"
    }
   ],
   "source": [
    "test_data.shape"
   ]
  },
  {
   "cell_type": "code",
   "execution_count": 129,
   "metadata": {
    "collapsed": true
   },
   "outputs": [],
   "source": [
    "def calcAccuracy(pred, obs):\n",
    "    assert (pred.shape[0] == obs.shape[0])\n",
    "    correct = 0\n",
    "    for i in xrange(pred.shape[0]):\n",
    "        if pred[i] == obs[i]:\n",
    "            correct += 1\n",
    "    return 100.0 * correct / pred.shape[0]"
   ]
  },
  {
   "cell_type": "code",
   "execution_count": 130,
   "metadata": {
    "collapsed": true
   },
   "outputs": [],
   "source": [
    "def crossValidation(n, model, data, prnt=True):\n",
    "    \"\"\"\n",
    "    n: number of cross validation folds\n",
    "    model: model that we will use. Must have model.fit and model.predict\n",
    "    prnt: whether or not to print results, bool\n",
    "    \"\"\"\n",
    "    # Determines size of blocks\n",
    "    dataSize = data.shape[0]\n",
    "    blockSize = dataSize / n\n",
    "    \n",
    "    # Percent correct\n",
    "    accuracy = []\n",
    "    \n",
    "    for i in xrange(n):\n",
    "        if prnt:\n",
    "            print i,\n",
    "        # Calculate start and end indices of validation data\n",
    "        start = i * blockSize\n",
    "        end = start + blockSize\n",
    "        \n",
    "        # Training and test data\n",
    "        featsTrain = pd.concat((data.iloc[0:start], data.iloc[end:dataSize]), axis=0)\n",
    "        featsTest = data.iloc[start:end]\n",
    "        \n",
    "        # Store classes\n",
    "        classTrain = featsTrain.classnum.values\n",
    "        featsTrain = featsTrain.drop(['classnum'], axis = 1)\n",
    "        classTest = featsTest.classnum.values\n",
    "        featsTest = featsTest.drop(['classnum'], axis = 1)\n",
    "        \n",
    "        # Training / testing values\n",
    "        valsTrain = featsTrain.values\n",
    "        valsTest = featsTest.values\n",
    "        \n",
    "        # Classifier goes here\n",
    "        C = model\n",
    "        C.fit(valsTrain, classTrain)\n",
    "        classPred = C.predict(valsTest)\n",
    "        \n",
    "        # Calculate accuracy\n",
    "        accuracy.append(calcAccuracy(classPred, classTest))\n",
    "    if prnt:   \n",
    "        print \"\"  # this is to make a new line\n",
    "        print \"Mean: \" + str(np.mean(accuracy))\n",
    "        print \"Variance: \" + str(np.var(accuracy))\n",
    "        print \"Std Dev: \" + str(np.std(accuracy))\n",
    "    return np.mean(accuracy)"
   ]
  },
  {
   "cell_type": "code",
   "execution_count": 131,
   "metadata": {
    "collapsed": false
   },
   "outputs": [],
   "source": [
    "def test_n_estimators(n, model, estimators, title):\n",
    "    \"\"\"\n",
    "    Tests and plots a number of estimators on a model\n",
    "    n: number of folds for cross validation\n",
    "    model: model to fit/predict\n",
    "    estimators: array of potential estimator values for plotting\n",
    "    \"\"\"\n",
    "    results = []\n",
    "    \n",
    "    for e in estimators:\n",
    "        print e,\n",
    "        m = model(n_estimators=e)\n",
    "        results.append(crossValidation(n, m, prnt=False))\n",
    "        \n",
    "    plt.plot(estimators, results)\n",
    "    plt.title(title)\n",
    "    plt.xlabel(\"N Estimators\")\n",
    "    plt.ylabel(\"Model Accuracy\")"
   ]
  },
  {
   "cell_type": "code",
   "execution_count": null,
   "metadata": {
    "collapsed": false
   },
   "outputs": [],
   "source": [
    "crossValidation(20, GGM())"
   ]
  },
  {
   "cell_type": "code",
   "execution_count": null,
   "metadata": {
    "collapsed": false
   },
   "outputs": [],
   "source": [
    "# Gausian naieve bayes model\n",
    "GNB = GaussianNB()\n",
    "crossValidation(20, GNB)"
   ]
  },
  {
   "cell_type": "code",
   "execution_count": 125,
   "metadata": {
    "collapsed": false
   },
   "outputs": [
    {
     "name": "stdout",
     "output_type": "stream",
     "text": [
      "0 1 2 3 4 5 6 7 8 9 10 11 12 13 14 15 16 17 18 19 \n",
      "Mean: 89.2857142857\n",
      "Variance: 5.12312362962\n",
      "Std Dev: 2.26343182571\n"
     ]
    },
    {
     "data": {
      "text/plain": [
       "89.285714285714292"
      ]
     },
     "execution_count": 125,
     "metadata": {},
     "output_type": "execute_result"
    }
   ],
   "source": [
    "# random forest classifier\n",
    "RF = RandomForestClassifier(n_estimators=40)\n",
    "crossValidation(20, RF, data)\n",
    "# test_n_estimators(30, RandomForestClassifier, [2, 5, 10, 20, 30, 40, 50, 70, 90], title=\"Random Forest\")"
   ]
  },
  {
   "cell_type": "code",
   "execution_count": 120,
   "metadata": {
    "collapsed": false
   },
   "outputs": [
    {
     "name": "stdout",
     "output_type": "stream",
     "text": [
      "0 1 2 3 4 5 6 7 8 9 10 11 12 13 14 15 16 17 18 19 \n",
      "Mean: 89.0584415584\n",
      "Variance: 4.69198009782\n",
      "Std Dev: 2.16609789664\n"
     ]
    },
    {
     "data": {
      "text/plain": [
       "89.058441558441558"
      ]
     },
     "execution_count": 120,
     "metadata": {},
     "output_type": "execute_result"
    }
   ],
   "source": [
    "# random forest classifier testing which features to drop\n",
    "RF = RandomForestClassifier()\n",
    "crossValidation(20, RF, data.drop(['dump_line'], axis = 1))"
   ]
  },
  {
   "cell_type": "code",
   "execution_count": null,
   "metadata": {
    "collapsed": false
   },
   "outputs": [],
   "source": [
    "# adaboost classifier\n",
    "AB = AdaBoostClassifier()\n",
    "crossValidation(20, AB)\n",
    "test_n_estimators(20, AdaBoostClassifier, [2, 5, 10, 20, 30, 40, 50, 70, 90], title=\"AdaBoost\")"
   ]
  },
  {
   "cell_type": "code",
   "execution_count": null,
   "metadata": {
    "collapsed": false
   },
   "outputs": [],
   "source": [
    "# bagging classifier\n",
    "BG = BaggingClassifier()\n",
    "crossValidation(20, BG)\n",
    "test_n_estimators(20, BaggingClassifier, [2, 5, 10, 20, 30, 40, 50, 70, 90], title=\"Bagging\")"
   ]
  },
  {
   "cell_type": "code",
   "execution_count": null,
   "metadata": {
    "collapsed": false
   },
   "outputs": [],
   "source": [
    "# extra trees classifier\n",
    "ET = ExtraTreesClassifier()\n",
    "crossValidation(20, ET)\n",
    "test_n_estimators(20, ExtraTreesClassifier, [2, 5, 10, 20, 30, 40, 50, 70, 90], title=\"Extra Trees\")"
   ]
  },
  {
   "cell_type": "markdown",
   "metadata": {},
   "source": [
    "### Creating Predictions"
   ]
  },
  {
   "cell_type": "code",
   "execution_count": 155,
   "metadata": {
    "collapsed": true
   },
   "outputs": [],
   "source": [
    "def predict_export(train_df, test_df, model, outfile):\n",
    "    \"\"\"\n",
    "    Fits the training data to the model, predicts, and exports the\n",
    "    predictions in kaggle-approved format to csv\n",
    "    ----------\n",
    "    train_df: training pd dataframe\n",
    "    test_df: test pd dataframe, with classnum column and id as index\n",
    "    model: model to fit/predict\n",
    "    outfile: path string for output csv\n",
    "    \"\"\"\n",
    "    y_train = train_df[\"classnum\"].values\n",
    "    X_train = train_df.drop(\"classnum\", axis=1).drop(\"id\", axis=1).values\n",
    "    \n",
    "    test_ids = test_df.id.values\n",
    "    X_test = test_df.drop(\"classnum\", axis=1).drop(\"id\", axis=1).values\n",
    "    \n",
    "    model.fit(X_train, y_train)\n",
    "    preds = model.predict(X_test)\n",
    "    write_predictions(preds, test_ids, outfile)"
   ]
  },
  {
   "cell_type": "code",
   "execution_count": 158,
   "metadata": {
    "collapsed": false
   },
   "outputs": [],
   "source": [
    "RF = RandomForestClassifier(n_estimators=40)\n",
    "\n",
    "predict_export(data, test_data, RF, \"predictions/RFpredictions2.csv\")"
   ]
  },
  {
   "cell_type": "code",
   "execution_count": null,
   "metadata": {
    "collapsed": true
   },
   "outputs": [],
   "source": []
  }
 ],
 "metadata": {
  "kernelspec": {
   "display_name": "Python 2",
   "language": "python",
   "name": "python2"
  },
  "language_info": {
   "codemirror_mode": {
    "name": "ipython",
    "version": 2
   },
   "file_extension": ".py",
   "mimetype": "text/x-python",
   "name": "python",
   "nbconvert_exporter": "python",
   "pygments_lexer": "ipython2",
   "version": "2.7.11"
  }
 },
 "nbformat": 4,
 "nbformat_minor": 0
}
