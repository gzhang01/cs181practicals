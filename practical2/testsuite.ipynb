{
 "cells": [
  {
   "cell_type": "code",
   "execution_count": 124,
   "metadata": {
    "collapsed": false
   },
   "outputs": [],
   "source": [
    "import pandas as pd\n",
    "import numpy as np\n",
    "import matplotlib.pyplot as plt\n",
    "from sklearn.naive_bayes import GaussianNB\n",
    "from GaussianGenerativeModel import GaussianGenerativeModel as GGM\n",
    "from sklearn.ensemble import RandomForestClassifier, AdaBoostClassifier, BaggingClassifier, ExtraTreesClassifier\n",
    "from util import write_predictions\n",
    "import os\n",
    "# seaborn is a way to make our plots not look like shit\n",
    "try:\n",
    "    import seaborn as sns\n",
    "except:\n",
    "    pass\n",
    "%matplotlib inline"
   ]
  },
  {
   "cell_type": "code",
   "execution_count": 110,
   "metadata": {
    "collapsed": false
   },
   "outputs": [],
   "source": [
    "# Imports features\n",
    "data = pd.read_csv(\"data/featuresFromStrings.csv\", index_col=\"id\")\n",
    "test_data = pd.read_csv(\"data/featuresFromStringsTest.csv\", index_col=\"id\")\n",
    "# data = data.drop(['id'], axis = 1)"
   ]
  },
  {
   "cell_type": "code",
   "execution_count": 4,
   "metadata": {
    "collapsed": false
   },
   "outputs": [
    {
     "data": {
      "text/html": [
       "<div>\n",
       "<table border=\"1\" class=\"dataframe\">\n",
       "  <thead>\n",
       "    <tr style=\"text-align: right;\">\n",
       "      <th></th>\n",
       "      <th>dump_line</th>\n",
       "      <th>download_file</th>\n",
       "      <th>open_file</th>\n",
       "      <th>connect_socket</th>\n",
       "      <th>impersonate_user</th>\n",
       "      <th>sex</th>\n",
       "      <th>open_process</th>\n",
       "      <th>load_dll</th>\n",
       "      <th>kill_process</th>\n",
       "      <th>destroy_window</th>\n",
       "      <th>query_value</th>\n",
       "      <th>vm_protect</th>\n",
       "      <th>FILE_ANY_ACCESS</th>\n",
       "      <th>SECURITY_ANONYMOUS</th>\n",
       "      <th>create_open_file</th>\n",
       "      <th>Windows Desktop Search</th>\n",
       "      <th>find_file</th>\n",
       "      <th>classnum</th>\n",
       "    </tr>\n",
       "  </thead>\n",
       "  <tbody>\n",
       "    <tr>\n",
       "      <th>0</th>\n",
       "      <td>0</td>\n",
       "      <td>0</td>\n",
       "      <td>15</td>\n",
       "      <td>0</td>\n",
       "      <td>0</td>\n",
       "      <td>0</td>\n",
       "      <td>2</td>\n",
       "      <td>135</td>\n",
       "      <td>2</td>\n",
       "      <td>42</td>\n",
       "      <td>242</td>\n",
       "      <td>36</td>\n",
       "      <td>39</td>\n",
       "      <td>39</td>\n",
       "      <td>0</td>\n",
       "      <td>275</td>\n",
       "      <td>6</td>\n",
       "      <td>8</td>\n",
       "    </tr>\n",
       "    <tr>\n",
       "      <th>1</th>\n",
       "      <td>3434</td>\n",
       "      <td>0</td>\n",
       "      <td>275</td>\n",
       "      <td>12</td>\n",
       "      <td>12</td>\n",
       "      <td>2</td>\n",
       "      <td>28</td>\n",
       "      <td>467</td>\n",
       "      <td>2</td>\n",
       "      <td>65</td>\n",
       "      <td>2004</td>\n",
       "      <td>365</td>\n",
       "      <td>809</td>\n",
       "      <td>809</td>\n",
       "      <td>34</td>\n",
       "      <td>549</td>\n",
       "      <td>85</td>\n",
       "      <td>6</td>\n",
       "    </tr>\n",
       "    <tr>\n",
       "      <th>2</th>\n",
       "      <td>0</td>\n",
       "      <td>0</td>\n",
       "      <td>0</td>\n",
       "      <td>0</td>\n",
       "      <td>0</td>\n",
       "      <td>0</td>\n",
       "      <td>0</td>\n",
       "      <td>26</td>\n",
       "      <td>1</td>\n",
       "      <td>3</td>\n",
       "      <td>7</td>\n",
       "      <td>0</td>\n",
       "      <td>8</td>\n",
       "      <td>8</td>\n",
       "      <td>0</td>\n",
       "      <td>0</td>\n",
       "      <td>5</td>\n",
       "      <td>12</td>\n",
       "    </tr>\n",
       "    <tr>\n",
       "      <th>3</th>\n",
       "      <td>0</td>\n",
       "      <td>0</td>\n",
       "      <td>21</td>\n",
       "      <td>0</td>\n",
       "      <td>0</td>\n",
       "      <td>0</td>\n",
       "      <td>4</td>\n",
       "      <td>86</td>\n",
       "      <td>0</td>\n",
       "      <td>1</td>\n",
       "      <td>17</td>\n",
       "      <td>54</td>\n",
       "      <td>161</td>\n",
       "      <td>156</td>\n",
       "      <td>0</td>\n",
       "      <td>0</td>\n",
       "      <td>41</td>\n",
       "      <td>8</td>\n",
       "    </tr>\n",
       "    <tr>\n",
       "      <th>4</th>\n",
       "      <td>636</td>\n",
       "      <td>0</td>\n",
       "      <td>27</td>\n",
       "      <td>2</td>\n",
       "      <td>0</td>\n",
       "      <td>0</td>\n",
       "      <td>0</td>\n",
       "      <td>130</td>\n",
       "      <td>1</td>\n",
       "      <td>0</td>\n",
       "      <td>35</td>\n",
       "      <td>25</td>\n",
       "      <td>29</td>\n",
       "      <td>29</td>\n",
       "      <td>15</td>\n",
       "      <td>0</td>\n",
       "      <td>0</td>\n",
       "      <td>10</td>\n",
       "    </tr>\n",
       "  </tbody>\n",
       "</table>\n",
       "</div>"
      ],
      "text/plain": [
       "   dump_line  download_file  open_file  connect_socket  impersonate_user  sex  \\\n",
       "0          0              0         15               0                 0    0   \n",
       "1       3434              0        275              12                12    2   \n",
       "2          0              0          0               0                 0    0   \n",
       "3          0              0         21               0                 0    0   \n",
       "4        636              0         27               2                 0    0   \n",
       "\n",
       "   open_process  load_dll  kill_process  destroy_window  query_value  \\\n",
       "0             2       135             2              42          242   \n",
       "1            28       467             2              65         2004   \n",
       "2             0        26             1               3            7   \n",
       "3             4        86             0               1           17   \n",
       "4             0       130             1               0           35   \n",
       "\n",
       "   vm_protect  FILE_ANY_ACCESS  SECURITY_ANONYMOUS  create_open_file  \\\n",
       "0          36               39                  39                 0   \n",
       "1         365              809                 809                34   \n",
       "2           0                8                   8                 0   \n",
       "3          54              161                 156                 0   \n",
       "4          25               29                  29                15   \n",
       "\n",
       "   Windows Desktop Search  find_file  classnum  \n",
       "0                     275          6         8  \n",
       "1                     549         85         6  \n",
       "2                       0          5        12  \n",
       "3                       0         41         8  \n",
       "4                       0          0        10  "
      ]
     },
     "execution_count": 4,
     "metadata": {},
     "output_type": "execute_result"
    }
   ],
   "source": [
    "data.head()"
   ]
  },
  {
   "cell_type": "code",
   "execution_count": 6,
   "metadata": {
    "collapsed": true
   },
   "outputs": [],
   "source": [
    "def calcAccuracy(pred, obs):\n",
    "    assert (pred.shape[0] == obs.shape[0])\n",
    "    correct = 0\n",
    "    for i in xrange(pred.shape[0]):\n",
    "        if pred[i] == obs[i]:\n",
    "            correct += 1\n",
    "    return 100.0 * correct / pred.shape[0]"
   ]
  },
  {
   "cell_type": "code",
   "execution_count": 77,
   "metadata": {
    "collapsed": true
   },
   "outputs": [],
   "source": [
    "def crossValidation(n, model, prnt=True):\n",
    "    \"\"\"\n",
    "    n: number of cross validation folds\n",
    "    model: model that we will use. Must have model.fit and model.predict\n",
    "    prnt: whether or not to print results, bool\n",
    "    \"\"\"\n",
    "    # Determines size of blocks\n",
    "    dataSize = data.shape[0]\n",
    "    blockSize = dataSize / n\n",
    "    \n",
    "    # Percent correct\n",
    "    accuracy = []\n",
    "    \n",
    "    for i in xrange(n):\n",
    "        if prnt:\n",
    "            print i,\n",
    "        # Calculate start and end indices of validation data\n",
    "        start = i * blockSize\n",
    "        end = start + blockSize\n",
    "        \n",
    "        # Training and test data\n",
    "        featsTrain = pd.concat((data.iloc[0:start], data.iloc[end:dataSize]), axis=0)\n",
    "        featsTest = data.iloc[start:end]\n",
    "        \n",
    "        # Store classes\n",
    "        classTrain = featsTrain.classnum.values\n",
    "        featsTrain = featsTrain.drop(['classnum'], axis = 1)\n",
    "        classTest = featsTest.classnum.values\n",
    "        featsTest = featsTest.drop(['classnum'], axis = 1)\n",
    "        \n",
    "        # Training / testing values\n",
    "        valsTrain = featsTrain.values\n",
    "        valsTest = featsTest.values\n",
    "        \n",
    "        # Classifier goes here\n",
    "        C = model\n",
    "        C.fit(valsTrain, classTrain)\n",
    "        classPred = C.predict(valsTest)\n",
    "        \n",
    "        # Calculate accuracy\n",
    "        accuracy.append(calcAccuracy(classPred, classTest))\n",
    "    if prnt:   \n",
    "        print \"\"  # this is to make a new line\n",
    "        print \"Mean: \" + str(np.mean(accuracy))\n",
    "        print \"Variance: \" + str(np.var(accuracy))\n",
    "        print \"Std Dev: \" + str(np.std(accuracy))\n",
    "    return np.mean(accuracy)"
   ]
  },
  {
   "cell_type": "code",
   "execution_count": 79,
   "metadata": {
    "collapsed": false
   },
   "outputs": [],
   "source": [
    "def test_n_estimators(n, model, estimators, title):\n",
    "    \"\"\"\n",
    "    Tests and plots a number of estimators on a model\n",
    "    n: number of folds for cross validation\n",
    "    model: model to fit/predict\n",
    "    estimators: array of potential estimator values for plotting\n",
    "    \"\"\"\n",
    "    results = []\n",
    "    \n",
    "    for e in estimators:\n",
    "        print e,\n",
    "        m = model(n_estimators=e)\n",
    "        results.append(crossValidation(n, m, prnt=False))\n",
    "        \n",
    "    plt.plot(estimators, results)\n",
    "    plt.title(title)\n",
    "    plt.xlabel(\"N Estimators\")\n",
    "    plt.ylabel(\"Model Accuracy\")"
   ]
  },
  {
   "cell_type": "code",
   "execution_count": 15,
   "metadata": {
    "collapsed": false
   },
   "outputs": [
    {
     "name": "stdout",
     "output_type": "stream",
     "text": [
      "0 1 2 3 4 5 6 7 8 9 10 11 12 13 14 15 16 17 18 19 \n",
      "Mean: 37.6623376623\n",
      "Variance: 103.516613257\n",
      "Std Dev: 10.174311439\n"
     ]
    }
   ],
   "source": [
    "crossValidation(20, GGM())"
   ]
  },
  {
   "cell_type": "code",
   "execution_count": 36,
   "metadata": {
    "collapsed": false
   },
   "outputs": [
    {
     "name": "stdout",
     "output_type": "stream",
     "text": [
      "0 1 2 3 4 5 6 7 8 9 10 11 12 13 14 15 16 17 18 19 \n",
      "Mean: 26.461038961\n",
      "Variance: 19.4752487772\n",
      "Std Dev: 4.41307701918\n"
     ]
    }
   ],
   "source": [
    "# Gausian naieve bayes model\n",
    "GNB = GaussianNB()\n",
    "crossValidation(20, GNB)"
   ]
  },
  {
   "cell_type": "code",
   "execution_count": 85,
   "metadata": {
    "collapsed": false
   },
   "outputs": [
    {
     "name": "stdout",
     "output_type": "stream",
     "text": [
      "0 1 2 3 4 5 6 7 8 9 10 11 12 13 14 15 16 17 18 19 \n",
      "Mean: 88.538961039\n",
      "Variance: 4.64981447124\n",
      "Std Dev: 2.15634284641\n",
      "2 5 10 20 30 40 50 70 90\n"
     ]
    },
    {
     "data": {
      "image/png": "[encoded data removed]",
      "text/plain": [
       "<matplotlib.figure.Figure at 0x119a4a7d0>"
      ]
     },
     "metadata": {},
     "output_type": "display_data"
    }
   ],
   "source": [
    "# random forest classifier\n",
    "RF = RandomForestClassifier()\n",
    "crossValidation(20, RF)\n",
    "test_n_estimators(30, RandomForestClassifier, [2, 5, 10, 20, 30, 40, 50, 70, 90], title=\"Random Forest\")"
   ]
  },
  {
   "cell_type": "code",
   "execution_count": 82,
   "metadata": {
    "collapsed": false
   },
   "outputs": [
    {
     "name": "stdout",
     "output_type": "stream",
     "text": [
      "0 1 2 3 4 5 6 7 8 9 10 11 12 13 14 15 16 17 18 19 \n",
      "Mean: 68.9285714286\n",
      "Variance: 9.54102715466\n",
      "Std Dev: 3.08885531462\n",
      "2 5 10 20 30 40 50 70 90\n"
     ]
    },
    {
     "data": {
      "image/png": "[encoded data removed]",
      "text/plain": [
       "<matplotlib.figure.Figure at 0x1141f0b10>"
      ]
     },
     "metadata": {},
     "output_type": "display_data"
    }
   ],
   "source": [
    "# adaboost classifier\n",
    "AB = AdaBoostClassifier()\n",
    "crossValidation(20, AB)\n",
    "test_n_estimators(20, AdaBoostClassifier, [2, 5, 10, 20, 30, 40, 50, 70, 90], title=\"AdaBoost\")"
   ]
  },
  {
   "cell_type": "code",
   "execution_count": 83,
   "metadata": {
    "collapsed": false
   },
   "outputs": [
    {
     "name": "stdout",
     "output_type": "stream",
     "text": [
      "0 1 2 3 4 5 6 7 8 9 10 11 12 13 14 15 16 17 18 19 \n",
      "Mean: 87.8896103896\n",
      "Variance: 5.66178950919\n",
      "Std Dev: 2.37945151436\n",
      "2 5 10 20 30 40 50 70 90\n"
     ]
    },
    {
     "data": {
      "image/png": "[encoded data removed]",
      "text/plain": [
       "<matplotlib.figure.Figure at 0x111a03110>"
      ]
     },
     "metadata": {},
     "output_type": "display_data"
    }
   ],
   "source": [
    "# bagging classifier\n",
    "BG = BaggingClassifier()\n",
    "crossValidation(20, BG)\n",
    "test_n_estimators(20, BaggingClassifier, [2, 5, 10, 20, 30, 40, 50, 70, 90], title=\"Bagging\")"
   ]
  },
  {
   "cell_type": "code",
   "execution_count": 84,
   "metadata": {
    "collapsed": false
   },
   "outputs": [
    {
     "name": "stdout",
     "output_type": "stream",
     "text": [
      "0 1 2 3 4 5 6 7 8 9 10 11 12 13 14 15 16 17 18 19 \n",
      "Mean: 88.7987012987\n",
      "Variance: 6.57256704335\n",
      "Std Dev: 2.56370182419\n",
      "2 5 10 20 30 40 50 70 90\n"
     ]
    },
    {
     "data": {
      "image/png": "[encoded data removed]",
      "text/plain": [
       "<matplotlib.figure.Figure at 0x11b8dfb10>"
      ]
     },
     "metadata": {},
     "output_type": "display_data"
    }
   ],
   "source": [
    "# extra trees classifier\n",
    "ET = ExtraTreesClassifier()\n",
    "crossValidation(20, ET)\n",
    "test_n_estimators(20, ExtraTreesClassifier, [2, 5, 10, 20, 30, 40, 50, 70, 90], title=\"Extra Trees\")"
   ]
  },
  {
   "cell_type": "markdown",
   "metadata": {},
   "source": [
    "### Creating Predictions"
   ]
  },
  {
   "cell_type": "code",
   "execution_count": 129,
   "metadata": {
    "collapsed": true
   },
   "outputs": [],
   "source": [
    "def predict_export(train_df, test_df, model, outfile):\n",
    "    \"\"\"\n",
    "    Fits the training data to the model, predicts, and exports the\n",
    "    predictions in kaggle-approved format to csv\n",
    "    ----------\n",
    "    train_df: training pd dataframe\n",
    "    test_df: test pd dataframe, with classnum column and id as index\n",
    "    model: model to fit/predict\n",
    "    outfile: path string for output csv\n",
    "    \"\"\"\n",
    "    y_train = train_df[\"classnum\"].values\n",
    "    X_train = train_df.drop(\"classnum\", axis=1).values\n",
    "    \n",
    "    test_ids = test_df.index.values\n",
    "    X_test = test_df.drop(\"classnum\", axis=1).values\n",
    "\n",
    "    \n",
    "    model.fit(X_train, y_train)\n",
    "    preds = model.predict(X_test)\n",
    "    write_predictions(preds, test_ids, outfile)"
   ]
  },
  {
   "cell_type": "code",
   "execution_count": 131,
   "metadata": {
    "collapsed": false
   },
   "outputs": [],
   "source": [
    "RF = RandomForestClassifier(n_estimators=30)\n",
    "\n",
    "temp_test = test_data.drop(\"open_key\", axis=1)  # because our current training df doesn't have this column\n",
    "predict_export(data, temp_test, RF, \"data/RFpredictions.csv\")"
   ]
  },
  {
   "cell_type": "code",
   "execution_count": null,
   "metadata": {
    "collapsed": true
   },
   "outputs": [],
   "source": []
  }
 ],
 "metadata": {
  "kernelspec": {
   "display_name": "Python 2",
   "language": "python",
   "name": "python2"
  },
  "language_info": {
   "codemirror_mode": {
    "name": "ipython",
    "version": 2
   },
   "file_extension": ".py",
   "mimetype": "text/x-python",
   "name": "python",
   "nbconvert_exporter": "python",
   "pygments_lexer": "ipython2",
   "version": "2.7.10"
  }
 },
 "nbformat": 4,
 "nbformat_minor": 0
}
