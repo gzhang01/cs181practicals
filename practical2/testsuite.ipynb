{
 "cells": [
  {
   "cell_type": "code",
   "execution_count": 39,
   "metadata": {
    "collapsed": false
   },
   "outputs": [],
   "source": [
    "import pandas as pd\n",
    "import numpy as np\n",
    "import matplotlib.pyplot as plt\n",
    "from sklearn.naive_bayes import GaussianNB\n",
    "from GaussianGenerativeModel import GaussianGenerativeModel as GGM\n",
    "from sklearn.ensemble import RandomForestClassifier, AdaBoostClassifier"
   ]
  },
  {
   "cell_type": "code",
   "execution_count": 3,
   "metadata": {
    "collapsed": false
   },
   "outputs": [],
   "source": [
    "# Imports features\n",
    "data = pd.read_csv(\"data/featuresFromStrings.csv\")\n",
    "data = data.drop(['id'], axis = 1)"
   ]
  },
  {
   "cell_type": "code",
   "execution_count": 4,
   "metadata": {
    "collapsed": false
   },
   "outputs": [
    {
     "data": {
      "text/html": [
       "<div>\n",
       "<table border=\"1\" class=\"dataframe\">\n",
       "  <thead>\n",
       "    <tr style=\"text-align: right;\">\n",
       "      <th></th>\n",
       "      <th>dump_line</th>\n",
       "      <th>download_file</th>\n",
       "      <th>open_file</th>\n",
       "      <th>connect_socket</th>\n",
       "      <th>impersonate_user</th>\n",
       "      <th>sex</th>\n",
       "      <th>open_process</th>\n",
       "      <th>load_dll</th>\n",
       "      <th>kill_process</th>\n",
       "      <th>destroy_window</th>\n",
       "      <th>query_value</th>\n",
       "      <th>vm_protect</th>\n",
       "      <th>FILE_ANY_ACCESS</th>\n",
       "      <th>SECURITY_ANONYMOUS</th>\n",
       "      <th>create_open_file</th>\n",
       "      <th>Windows Desktop Search</th>\n",
       "      <th>find_file</th>\n",
       "      <th>classnum</th>\n",
       "    </tr>\n",
       "  </thead>\n",
       "  <tbody>\n",
       "    <tr>\n",
       "      <th>0</th>\n",
       "      <td>0</td>\n",
       "      <td>0</td>\n",
       "      <td>15</td>\n",
       "      <td>0</td>\n",
       "      <td>0</td>\n",
       "      <td>0</td>\n",
       "      <td>2</td>\n",
       "      <td>135</td>\n",
       "      <td>2</td>\n",
       "      <td>42</td>\n",
       "      <td>242</td>\n",
       "      <td>36</td>\n",
       "      <td>39</td>\n",
       "      <td>39</td>\n",
       "      <td>0</td>\n",
       "      <td>275</td>\n",
       "      <td>6</td>\n",
       "      <td>8</td>\n",
       "    </tr>\n",
       "    <tr>\n",
       "      <th>1</th>\n",
       "      <td>3434</td>\n",
       "      <td>0</td>\n",
       "      <td>275</td>\n",
       "      <td>12</td>\n",
       "      <td>12</td>\n",
       "      <td>2</td>\n",
       "      <td>28</td>\n",
       "      <td>467</td>\n",
       "      <td>2</td>\n",
       "      <td>65</td>\n",
       "      <td>2004</td>\n",
       "      <td>365</td>\n",
       "      <td>809</td>\n",
       "      <td>809</td>\n",
       "      <td>34</td>\n",
       "      <td>549</td>\n",
       "      <td>85</td>\n",
       "      <td>6</td>\n",
       "    </tr>\n",
       "    <tr>\n",
       "      <th>2</th>\n",
       "      <td>0</td>\n",
       "      <td>0</td>\n",
       "      <td>0</td>\n",
       "      <td>0</td>\n",
       "      <td>0</td>\n",
       "      <td>0</td>\n",
       "      <td>0</td>\n",
       "      <td>26</td>\n",
       "      <td>1</td>\n",
       "      <td>3</td>\n",
       "      <td>7</td>\n",
       "      <td>0</td>\n",
       "      <td>8</td>\n",
       "      <td>8</td>\n",
       "      <td>0</td>\n",
       "      <td>0</td>\n",
       "      <td>5</td>\n",
       "      <td>12</td>\n",
       "    </tr>\n",
       "    <tr>\n",
       "      <th>3</th>\n",
       "      <td>0</td>\n",
       "      <td>0</td>\n",
       "      <td>21</td>\n",
       "      <td>0</td>\n",
       "      <td>0</td>\n",
       "      <td>0</td>\n",
       "      <td>4</td>\n",
       "      <td>86</td>\n",
       "      <td>0</td>\n",
       "      <td>1</td>\n",
       "      <td>17</td>\n",
       "      <td>54</td>\n",
       "      <td>161</td>\n",
       "      <td>156</td>\n",
       "      <td>0</td>\n",
       "      <td>0</td>\n",
       "      <td>41</td>\n",
       "      <td>8</td>\n",
       "    </tr>\n",
       "    <tr>\n",
       "      <th>4</th>\n",
       "      <td>636</td>\n",
       "      <td>0</td>\n",
       "      <td>27</td>\n",
       "      <td>2</td>\n",
       "      <td>0</td>\n",
       "      <td>0</td>\n",
       "      <td>0</td>\n",
       "      <td>130</td>\n",
       "      <td>1</td>\n",
       "      <td>0</td>\n",
       "      <td>35</td>\n",
       "      <td>25</td>\n",
       "      <td>29</td>\n",
       "      <td>29</td>\n",
       "      <td>15</td>\n",
       "      <td>0</td>\n",
       "      <td>0</td>\n",
       "      <td>10</td>\n",
       "    </tr>\n",
       "  </tbody>\n",
       "</table>\n",
       "</div>"
      ],
      "text/plain": [
       "   dump_line  download_file  open_file  connect_socket  impersonate_user  sex  \\\n",
       "0          0              0         15               0                 0    0   \n",
       "1       3434              0        275              12                12    2   \n",
       "2          0              0          0               0                 0    0   \n",
       "3          0              0         21               0                 0    0   \n",
       "4        636              0         27               2                 0    0   \n",
       "\n",
       "   open_process  load_dll  kill_process  destroy_window  query_value  \\\n",
       "0             2       135             2              42          242   \n",
       "1            28       467             2              65         2004   \n",
       "2             0        26             1               3            7   \n",
       "3             4        86             0               1           17   \n",
       "4             0       130             1               0           35   \n",
       "\n",
       "   vm_protect  FILE_ANY_ACCESS  SECURITY_ANONYMOUS  create_open_file  \\\n",
       "0          36               39                  39                 0   \n",
       "1         365              809                 809                34   \n",
       "2           0                8                   8                 0   \n",
       "3          54              161                 156                 0   \n",
       "4          25               29                  29                15   \n",
       "\n",
       "   Windows Desktop Search  find_file  classnum  \n",
       "0                     275          6         8  \n",
       "1                     549         85         6  \n",
       "2                       0          5        12  \n",
       "3                       0         41         8  \n",
       "4                       0          0        10  "
      ]
     },
     "execution_count": 4,
     "metadata": {},
     "output_type": "execute_result"
    }
   ],
   "source": [
    "data.head()"
   ]
  },
  {
   "cell_type": "code",
   "execution_count": 6,
   "metadata": {
    "collapsed": true
   },
   "outputs": [],
   "source": [
    "def calcAccuracy(pred, obs):\n",
    "    assert (pred.shape[0] == obs.shape[0])\n",
    "    correct = 0\n",
    "    for i in xrange(pred.shape[0]):\n",
    "        if pred[i] == obs[i]:\n",
    "            correct += 1\n",
    "    return 100.0 * correct / pred.shape[0]"
   ]
  },
  {
   "cell_type": "code",
   "execution_count": 14,
   "metadata": {
    "collapsed": true
   },
   "outputs": [],
   "source": [
    "def crossValidation(n, model):\n",
    "    \"\"\"\n",
    "    n: number of cross validation folds\n",
    "    model: model that we will use. Must have model.fit and model.predict\n",
    "    \"\"\"\n",
    "    # Determines size of blocks\n",
    "    dataSize = data.shape[0]\n",
    "    blockSize = dataSize / n\n",
    "    \n",
    "    # Percent correct\n",
    "    accuracy = []\n",
    "    \n",
    "    for i in xrange(n):\n",
    "        print i,\n",
    "        # Calculate start and end indices of validation data\n",
    "        start = i * blockSize\n",
    "        end = start + blockSize\n",
    "        \n",
    "        # Training and test data\n",
    "        featsTrain = pd.concat((data.iloc[0:start], data.iloc[end:dataSize]), axis=0)\n",
    "        featsTest = data.iloc[start:end]\n",
    "        \n",
    "        # Store classes\n",
    "        classTrain = featsTrain.classnum.values\n",
    "        featsTrain = featsTrain.drop(['classnum'], axis = 1)\n",
    "        classTest = featsTest.classnum.values\n",
    "        featsTest = featsTest.drop(['classnum'], axis = 1)\n",
    "        \n",
    "        # Training / testing values\n",
    "        valsTrain = featsTrain.values\n",
    "        valsTest = featsTest.values\n",
    "        \n",
    "        # Classifier goes here\n",
    "        C = model\n",
    "        C.fit(valsTrain, classTrain)\n",
    "        classPred = C.predict(valsTest)\n",
    "        \n",
    "        # Calculate accuracy\n",
    "        accuracy.append(calcAccuracy(classPred, classTest))\n",
    "        \n",
    "    print \"\"  # this is to make a new line\n",
    "    print \"Mean: \" + str(np.mean(accuracy))\n",
    "    print \"Variance: \" + str(np.var(accuracy))\n",
    "    print \"Std Dev: \" + str(np.std(accuracy))"
   ]
  },
  {
   "cell_type": "code",
   "execution_count": 15,
   "metadata": {
    "collapsed": false
   },
   "outputs": [
    {
     "name": "stdout",
     "output_type": "stream",
     "text": [
      "0 1 2 3 4 5 6 7 8 9 10 11 12 13 14 15 16 17 18 19 \n",
      "Mean: 37.6623376623\n",
      "Variance: 103.516613257\n",
      "Std Dev: 10.174311439\n"
     ]
    }
   ],
   "source": [
    "crossValidation(20, GGM())"
   ]
  },
  {
   "cell_type": "code",
   "execution_count": 36,
   "metadata": {
    "collapsed": false
   },
   "outputs": [
    {
     "name": "stdout",
     "output_type": "stream",
     "text": [
      "0 1 2 3 4 5 6 7 8 9 10 11 12 13 14 15 16 17 18 19 \n",
      "Mean: 26.461038961\n",
      "Variance: 19.4752487772\n",
      "Std Dev: 4.41307701918\n"
     ]
    }
   ],
   "source": [
    "# Gausian naieve bayes model\n",
    "GNB = GaussianNB()\n",
    "crossValidation(20, GNB)"
   ]
  },
  {
   "cell_type": "code",
   "execution_count": 41,
   "metadata": {
    "collapsed": false
   },
   "outputs": [
    {
     "name": "stdout",
     "output_type": "stream",
     "text": [
      "0 1 2 3 4 5 6 7 8 9 10 11 12 13 14 15 16 17 18 19 \n",
      "Mean: 88.961038961\n",
      "Variance: 5.05987518975\n",
      "Std Dev: 2.24941663321\n"
     ]
    }
   ],
   "source": [
    "# random forest classifier\n",
    "RF = RandomForestClassifier()\n",
    "crossValidation(20, RF)"
   ]
  },
  {
   "cell_type": "code",
   "execution_count": 42,
   "metadata": {
    "collapsed": false
   },
   "outputs": [
    {
     "name": "stdout",
     "output_type": "stream",
     "text": [
      "0 1 2 3 4 5 6 7 8 9 10 11 12 13 14 15 16 17 18 19 \n",
      "Mean: 68.9285714286\n",
      "Variance: 9.54102715466\n",
      "Std Dev: 3.08885531462\n"
     ]
    }
   ],
   "source": [
    "# adaboost classifier\n",
    "AB = AdaBoostClassifier()\n",
    "crossValidation(20, AB)"
   ]
  },
  {
   "cell_type": "code",
   "execution_count": null,
   "metadata": {
    "collapsed": true
   },
   "outputs": [],
   "source": []
  }
 ],
 "metadata": {
  "kernelspec": {
   "display_name": "Python 2",
   "language": "python",
   "name": "python2"
  },
  "language_info": {
   "codemirror_mode": {
    "name": "ipython",
    "version": 2
   },
   "file_extension": ".py",
   "mimetype": "text/x-python",
   "name": "python",
   "nbconvert_exporter": "python",
   "pygments_lexer": "ipython2",
   "version": "2.7.10"
  }
 },
 "nbformat": 4,
 "nbformat_minor": 0
}
