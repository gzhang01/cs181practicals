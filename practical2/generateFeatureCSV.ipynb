{
 "cells": [
  {
   "cell_type": "code",
   "execution_count": 1,
   "metadata": {
    "collapsed": false
   },
   "outputs": [],
   "source": [
    "import os\n",
    "from collections import Counter\n",
    "try:\n",
    "    import xml.etree.cElementTree as ET\n",
    "except ImportError:\n",
    "    import xml.etree.ElementTree as ET\n",
    "import numpy as np\n",
    "from scipy import sparse\n",
    "import util\n",
    "import re"
   ]
  },
  {
   "cell_type": "code",
   "execution_count": 2,
   "metadata": {
    "collapsed": true
   },
   "outputs": [],
   "source": [
    "TRAIN_DIR = \"train\"\n",
    "call_set = set([])"
   ]
  },
  {
   "cell_type": "code",
   "execution_count": 23,
   "metadata": {
    "collapsed": true
   },
   "outputs": [],
   "source": [
    "# CHANGE IF NEED DIFFERENT FEATURES\n",
    "desired_features = ['download_file', 'open_file', 'impersonate_user', 'open_process', 'kill_process', 'destroy_window', 'query_value', 'SECURITY_ANONYMOUS', 'create_open_file', 'find_file', 'open_key', 'delete_file', 'WIN.INI', 'hash_error', 'open_scmanager', 'NtTerminateProcess', 'recv_socket', 'enum_keys', 'set_windows_hook', 'com_create_instance', 'create_thread', 'find_window', ]"
   ]
  },
  {
   "cell_type": "code",
   "execution_count": 4,
   "metadata": {
    "collapsed": true
   },
   "outputs": [],
   "source": [
    "def add_to_set(tree):\n",
    "    for el in tree.iter():\n",
    "        call = el.tag\n",
    "        call_set.add(call)"
   ]
  },
  {
   "cell_type": "code",
   "execution_count": 5,
   "metadata": {
    "collapsed": true
   },
   "outputs": [],
   "source": [
    "def create_data_matrix(start_index, end_index, direc=\"train\"):\n",
    "    X = None\n",
    "    classes = []\n",
    "    ids = [] \n",
    "    i = -1\n",
    "    for datafile in os.listdir(direc):\n",
    "        if datafile == '.DS_Store':\n",
    "            continue\n",
    "\n",
    "        i += 1\n",
    "        if i % 100 == 0:\n",
    "            print i,\n",
    "        if i < start_index:\n",
    "            continue \n",
    "        if i >= end_index:\n",
    "            break\n",
    "\n",
    "        # extract id and true class (if available) from filename\n",
    "        id_str, clazz = datafile.split('.')[:2]\n",
    "        ids.append(id_str)\n",
    "        # add target class if this is training data\n",
    "        try:\n",
    "            classes.append(util.malware_classes.index(clazz))\n",
    "\n",
    "        except ValueError:\n",
    "            # we should only fail to find the label in our list of malware classes\n",
    "            # if this is test data, which always has an \"X\" label\n",
    "            assert clazz == \"X\"\n",
    "            classes.append(-1)\n",
    "\n",
    "        # parse file as an xml document\n",
    "        tree = ET.parse(os.path.join(direc,datafile))\n",
    "        add_to_set(tree)\n",
    "        this_row = call_feats(tree)\n",
    "        if X is None:\n",
    "            X = this_row \n",
    "        else:\n",
    "            X = np.vstack((X, this_row))\n",
    "\n",
    "    return X, np.array(classes), ids"
   ]
  },
  {
   "cell_type": "code",
   "execution_count": 6,
   "metadata": {
    "collapsed": true
   },
   "outputs": [],
   "source": [
    "def call_feats(tree):\n",
    "    s = ET.tostring(tree.getroot())\n",
    "    features = []\n",
    "    \n",
    "    for i in xrange(len(desired_features)):\n",
    "        count = len(re.findall(desired_features[i], s, re.I))\n",
    "        features.append(count)\n",
    "\n",
    "    return features"
   ]
  },
  {
   "cell_type": "code",
   "execution_count": 7,
   "metadata": {
    "collapsed": true
   },
   "outputs": [],
   "source": [
    "def write_feats_to_file(filename, ids, feat_counts, classes):\n",
    "    with open(filename, \"w\") as f:\n",
    "        csfeats = \",\".join(desired_features)\n",
    "        f.write(\"id,\" + csfeats + \",classnum\\n\")\n",
    "        for i in range(len(ids)):\n",
    "            csfeatcounts = \",\".join(map(str, feat_counts[i]))\n",
    "            f.write(str(ids[i]) + \",\" + str(csfeatcounts) + \",\" + str(classes[i]) + \"\\n\")"
   ]
  },
  {
   "cell_type": "code",
   "execution_count": 24,
   "metadata": {
    "collapsed": false
   },
   "outputs": [],
   "source": [
    "## Feature extraction\n",
    "def main():\n",
    "## Uncomment for train data\n",
    "#     X_train, t_train, train_ids = create_data_matrix(0, 3086, TRAIN_DIR)\n",
    "#     write_feats_to_file(\"data/featuresFromStrings.csv\", train_ids, X_train, t_train)\n",
    "\n",
    "## Uncomment for test data\n",
    "    X_test, t_test, test_ids = create_data_matrix(0, 3724, \"test\")\n",
    "    write_feats_to_file(\"data/featuresFromStringsTest.csv\", test_ids, X_test, t_test)\n",
    "    print \"Done\""
   ]
  },
  {
   "cell_type": "code",
   "execution_count": 25,
   "metadata": {
    "collapsed": false
   },
   "outputs": [
    {
     "name": "stdout",
     "output_type": "stream",
     "text": [
      "0 100 200 300 400 500 600 700 800 900 1000 1100 1200 1300 1400 1500 1600 1700 1800 1900 2000 2100 2200 2300 2400 2500 2600 2700 2800 2900 3000 3100 3200 3300 3400 3500 3600 3700 Done\n"
     ]
    }
   ],
   "source": [
    "main()"
   ]
  },
  {
   "cell_type": "code",
   "execution_count": null,
   "metadata": {
    "collapsed": true
   },
   "outputs": [],
   "source": []
  }
 ],
 "metadata": {
  "kernelspec": {
   "display_name": "Python 2",
   "language": "python",
   "name": "python2"
  },
  "language_info": {
   "codemirror_mode": {
    "name": "ipython",
    "version": 2
   },
   "file_extension": ".py",
   "mimetype": "text/x-python",
   "name": "python",
   "nbconvert_exporter": "python",
   "pygments_lexer": "ipython2",
   "version": "2.7.11"
  }
 },
 "nbformat": 4,
 "nbformat_minor": 0
}
