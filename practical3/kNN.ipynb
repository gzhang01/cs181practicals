{
 "cells": [
  {
   "cell_type": "code",
   "execution_count": 51,
   "metadata": {
    "collapsed": true
   },
   "outputs": [],
   "source": [
    "import numpy as py\n",
    "import pandas as pd"
   ]
  },
  {
   "cell_type": "code",
   "execution_count": 80,
   "metadata": {
    "collapsed": true
   },
   "outputs": [],
   "source": [
    "class KNN:\n",
    "    def __init__(self):\n",
    "        pass\n",
    "    \n",
    "    def fit(self, dict):\n",
    "        self.dict = dict\n",
    "        print self.dict\n",
    "    \n",
    "    def predict(self, testData):\n",
    "        predictions = []\n",
    "        for test in testData:\n",
    "            artist = test[0]\n",
    "            country = test[1]\n",
    "            sex = test[2]\n",
    "            age = test[3]\n",
    "\n",
    "            if artist not in self.dict:\n",
    "                assert (\"ARTIST NOT IN DICTIONARY\" and False)\n",
    "            if country not in self.dict[artist]:\n",
    "                assert (\"ARTIST-COUNTRY NOT IN DICTIONARY\" and False)\n",
    "            if sex not in self.dict[artist][country]:\n",
    "                assert (\"ARTIST-COUNTRY-SEX NOT IN DICTIONARY\" and False)\n",
    "            if age not in self.dict[artist][country][sex]:\n",
    "                age = self._findClosestAge(age, self.dict[artist][country][sex])\n",
    "                \n",
    "            print age\n",
    "            plays = self.dict[artist][country][sex][age]\n",
    "            predictions.append(1.0 * sum(plays) / len(plays))\n",
    "        return predictions\n",
    "    \n",
    "    def _findClosestAge(self, target, d):\n",
    "        ages = d.keys()\n",
    "        min_v = ages[0]\n",
    "        print target, ages[0], min_v\n",
    "        for val in ages:\n",
    "            if abs(target - val) < abs(target - min_v):\n",
    "                min_v = val\n",
    "        return min_v"
   ]
  },
  {
   "cell_type": "code",
   "execution_count": 81,
   "metadata": {
    "collapsed": false
   },
   "outputs": [],
   "source": [
    "data = {\"blue\": {\"USA\": {\"m\": {24: [30], 27: [31]}}}}"
   ]
  },
  {
   "cell_type": "code",
   "execution_count": 82,
   "metadata": {
    "collapsed": false
   },
   "outputs": [
    {
     "name": "stdout",
     "output_type": "stream",
     "text": [
      "{'blue': {'USA': {'m': {24: [30], 27: [31]}}}}\n"
     ]
    }
   ],
   "source": [
    "knn = KNN()\n",
    "knn.fit(data)"
   ]
  },
  {
   "cell_type": "code",
   "execution_count": 83,
   "metadata": {
    "collapsed": false
   },
   "outputs": [
    {
     "name": "stdout",
     "output_type": "stream",
     "text": [
      "25 24 24\n",
      "24\n"
     ]
    },
    {
     "data": {
      "text/plain": [
       "[30.0]"
      ]
     },
     "execution_count": 83,
     "metadata": {},
     "output_type": "execute_result"
    }
   ],
   "source": [
    "train = [[\"blue\", \"USA\", \"m\", 25]]\n",
    "knn.predict(train)"
   ]
  },
  {
   "cell_type": "code",
   "execution_count": null,
   "metadata": {
    "collapsed": true
   },
   "outputs": [],
   "source": []
  }
 ],
 "metadata": {
  "kernelspec": {
   "display_name": "Python 2",
   "language": "python",
   "name": "python2"
  },
  "language_info": {
   "codemirror_mode": {
    "name": "ipython",
    "version": 2
   },
   "file_extension": ".py",
   "mimetype": "text/x-python",
   "name": "python",
   "nbconvert_exporter": "python",
   "pygments_lexer": "ipython2",
   "version": "2.7.11"
  }
 },
 "nbformat": 4,
 "nbformat_minor": 0
}
