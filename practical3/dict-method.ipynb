{
 "cells": [
  {
   "cell_type": "code",
   "execution_count": 14,
   "metadata": {
    "collapsed": true
   },
   "outputs": [],
   "source": [
    "import pandas as pd\n",
    "import numpy as np\n",
    "from sklearn.cluster import KMeans\n",
    "from sklearn.decomposition import PCA\n",
    "import seaborn as sns\n",
    "import matplotlib.pyplot as plt\n",
    "import pdb\n",
    "\n",
    "%matplotlib inline"
   ]
  },
  {
   "cell_type": "code",
   "execution_count": 2,
   "metadata": {
    "collapsed": true
   },
   "outputs": [],
   "source": [
    "fulldf = pd.read_csv(\"data/train.csv\")\n",
    "artistnames = pd.read_csv(\"data/artists.csv\")\n",
    "artistclust = pd.read_csv(\"data/artist_clusters.csv\")\n",
    "artists = pd.merge(artistclust, artistnames)"
   ]
  },
  {
   "cell_type": "code",
   "execution_count": 20,
   "metadata": {
    "collapsed": false
   },
   "outputs": [
    {
     "data": {
      "text/html": [
       "<div>\n",
       "<table border=\"1\" class=\"dataframe\">\n",
       "  <thead>\n",
       "    <tr style=\"text-align: right;\">\n",
       "      <th></th>\n",
       "      <th>artist</th>\n",
       "      <th>cluster</th>\n",
       "      <th>name</th>\n",
       "    </tr>\n",
       "  </thead>\n",
       "  <tbody>\n",
       "    <tr>\n",
       "      <th>0</th>\n",
       "      <td>03098741-08b3-4dd7-b3f6-1b0bfa2c879c</td>\n",
       "      <td>1</td>\n",
       "      <td>Liars</td>\n",
       "    </tr>\n",
       "    <tr>\n",
       "      <th>1</th>\n",
       "      <td>69c4cc43-8163-41c5-ac81-30946d27bb69</td>\n",
       "      <td>4</td>\n",
       "      <td>CunninLynguists</td>\n",
       "    </tr>\n",
       "    <tr>\n",
       "      <th>2</th>\n",
       "      <td>7a2e6b55-f149-4e74-be6a-30a1b1a387bb</td>\n",
       "      <td>0</td>\n",
       "      <td>The Desert Sessions</td>\n",
       "    </tr>\n",
       "    <tr>\n",
       "      <th>3</th>\n",
       "      <td>7002bf88-1269-4965-a772-4ba1e7a91eaa</td>\n",
       "      <td>4</td>\n",
       "      <td>Glenn Gould</td>\n",
       "    </tr>\n",
       "    <tr>\n",
       "      <th>4</th>\n",
       "      <td>dbf7c761-e332-467b-b4d9-aafe06bbcf8f</td>\n",
       "      <td>1</td>\n",
       "      <td>G. Love &amp; Special Sauce</td>\n",
       "    </tr>\n",
       "    <tr>\n",
       "      <th>5</th>\n",
       "      <td>a3cb23fc-acd3-4ce0-8f36-1e5aa6a18432</td>\n",
       "      <td>4</td>\n",
       "      <td>U2</td>\n",
       "    </tr>\n",
       "    <tr>\n",
       "      <th>6</th>\n",
       "      <td>8b0f05ce-354e-4121-9e0b-8b4732ea844f</td>\n",
       "      <td>4</td>\n",
       "      <td>Juanes</td>\n",
       "    </tr>\n",
       "    <tr>\n",
       "      <th>7</th>\n",
       "      <td>8363f94f-fd86-41b8-a56b-26eacb34f499</td>\n",
       "      <td>0</td>\n",
       "      <td>Summoning</td>\n",
       "    </tr>\n",
       "    <tr>\n",
       "      <th>8</th>\n",
       "      <td>2e41ae9c-afd2-4f20-8f1e-17281ce9b472</td>\n",
       "      <td>4</td>\n",
       "      <td>Gwen Stefani</td>\n",
       "    </tr>\n",
       "    <tr>\n",
       "      <th>9</th>\n",
       "      <td>c17f08f4-2542-46fb-97f3-3202d60c225a</td>\n",
       "      <td>0</td>\n",
       "      <td>Fear Factory</td>\n",
       "    </tr>\n",
       "    <tr>\n",
       "      <th>10</th>\n",
       "      <td>4bd95eea-b9f6-4d70-a36c-cfea77431553</td>\n",
       "      <td>4</td>\n",
       "      <td>Alice in Chains</td>\n",
       "    </tr>\n",
       "    <tr>\n",
       "      <th>11</th>\n",
       "      <td>f467181e-d5e0-4285-b47e-e853dcc89ee7</td>\n",
       "      <td>1</td>\n",
       "      <td>Ratatat</td>\n",
       "    </tr>\n",
       "    <tr>\n",
       "      <th>12</th>\n",
       "      <td>4d9fb84a-8104-48c1-aa16-21f53c9053cc</td>\n",
       "      <td>0</td>\n",
       "      <td>Ignite</td>\n",
       "    </tr>\n",
       "    <tr>\n",
       "      <th>13</th>\n",
       "      <td>3ff72a59-f39d-411d-9f93-2d4a86413013</td>\n",
       "      <td>1</td>\n",
       "      <td>The Magnetic Fields</td>\n",
       "    </tr>\n",
       "    <tr>\n",
       "      <th>14</th>\n",
       "      <td>5f58803e-8c4c-478e-8b51-477f38483ede</td>\n",
       "      <td>0</td>\n",
       "      <td>Madness</td>\n",
       "    </tr>\n",
       "    <tr>\n",
       "      <th>15</th>\n",
       "      <td>ff9deaae-da4f-42b7-a19e-36fedd3fc706</td>\n",
       "      <td>4</td>\n",
       "      <td>Ben Kweller</td>\n",
       "    </tr>\n",
       "    <tr>\n",
       "      <th>16</th>\n",
       "      <td>3231d12a-c42d-4977-b2a4-a6e4d87978e1</td>\n",
       "      <td>0</td>\n",
       "      <td>Tosca</td>\n",
       "    </tr>\n",
       "    <tr>\n",
       "      <th>17</th>\n",
       "      <td>756cf672-d4ae-4470-a3af-a43d776a211d</td>\n",
       "      <td>1</td>\n",
       "      <td>Saul Williams</td>\n",
       "    </tr>\n",
       "    <tr>\n",
       "      <th>18</th>\n",
       "      <td>8ca01f46-53ac-4af2-8516-55a909c0905e</td>\n",
       "      <td>4</td>\n",
       "      <td>My Bloody Valentine</td>\n",
       "    </tr>\n",
       "    <tr>\n",
       "      <th>19</th>\n",
       "      <td>a0ef7e1d-44ff-4039-9435-7d5fefdeecc9</td>\n",
       "      <td>1</td>\n",
       "      <td>[theatre]</td>\n",
       "    </tr>\n",
       "    <tr>\n",
       "      <th>20</th>\n",
       "      <td>c83907ee-8b5a-4547-8f68-96572243ea7f</td>\n",
       "      <td>1</td>\n",
       "      <td>Hot Water Music</td>\n",
       "    </tr>\n",
       "    <tr>\n",
       "      <th>21</th>\n",
       "      <td>dbbc47a5-1338-4830-9298-a8d0b11c0a46</td>\n",
       "      <td>0</td>\n",
       "      <td>Joss Stone</td>\n",
       "    </tr>\n",
       "    <tr>\n",
       "      <th>22</th>\n",
       "      <td>f4a31f0a-51dd-4fa7-986d-3095c40c5ed9</td>\n",
       "      <td>0</td>\n",
       "      <td>Evanescence</td>\n",
       "    </tr>\n",
       "    <tr>\n",
       "      <th>23</th>\n",
       "      <td>a9965383-6bdd-49a3-a4bb-4f8008b9d80e</td>\n",
       "      <td>4</td>\n",
       "      <td>Stephen Lynch</td>\n",
       "    </tr>\n",
       "    <tr>\n",
       "      <th>24</th>\n",
       "      <td>c1e5344e-1bff-4727-9417-a4f55e41b5ff</td>\n",
       "      <td>0</td>\n",
       "      <td>Loreena McKennitt</td>\n",
       "    </tr>\n",
       "    <tr>\n",
       "      <th>25</th>\n",
       "      <td>b5a31e9b-1fa2-45f9-91f5-b3a25fb38038</td>\n",
       "      <td>4</td>\n",
       "      <td>Municipal Waste</td>\n",
       "    </tr>\n",
       "    <tr>\n",
       "      <th>26</th>\n",
       "      <td>96c1edac-1011-4cb8-882c-27248de35071</td>\n",
       "      <td>4</td>\n",
       "      <td>The Cramps</td>\n",
       "    </tr>\n",
       "    <tr>\n",
       "      <th>27</th>\n",
       "      <td>370bd5a3-4abf-4356-8576-3a8fc0c11d65</td>\n",
       "      <td>4</td>\n",
       "      <td>Above &amp; Beyond</td>\n",
       "    </tr>\n",
       "    <tr>\n",
       "      <th>28</th>\n",
       "      <td>1a120ec5-35b3-4f3e-aa49-7201550d9feb</td>\n",
       "      <td>4</td>\n",
       "      <td>RJD2</td>\n",
       "    </tr>\n",
       "    <tr>\n",
       "      <th>29</th>\n",
       "      <td>2819834e-4e08-47b0-a2c4-b7672318e8f0</td>\n",
       "      <td>4</td>\n",
       "      <td>The Byrds</td>\n",
       "    </tr>\n",
       "    <tr>\n",
       "      <th>...</th>\n",
       "      <td>...</td>\n",
       "      <td>...</td>\n",
       "      <td>...</td>\n",
       "    </tr>\n",
       "    <tr>\n",
       "      <th>1970</th>\n",
       "      <td>5d02f264-e225-41ff-83f7-d9b1f0b1874a</td>\n",
       "      <td>4</td>\n",
       "      <td>Simon &amp; Garfunkel</td>\n",
       "    </tr>\n",
       "    <tr>\n",
       "      <th>1971</th>\n",
       "      <td>e940d7a3-01d0-468c-86ea-5dc4d89dcf80</td>\n",
       "      <td>1</td>\n",
       "      <td>Black Lips</td>\n",
       "    </tr>\n",
       "    <tr>\n",
       "      <th>1972</th>\n",
       "      <td>5385c403-1c49-4f2f-9b98-7085b5c84371</td>\n",
       "      <td>1</td>\n",
       "      <td>NaN</td>\n",
       "    </tr>\n",
       "    <tr>\n",
       "      <th>1973</th>\n",
       "      <td>87225a21-c925-41cd-852f-be4b052d0824</td>\n",
       "      <td>4</td>\n",
       "      <td>AFX</td>\n",
       "    </tr>\n",
       "    <tr>\n",
       "      <th>1974</th>\n",
       "      <td>c80f38a6-9980-485d-997c-5c1a9cbd0d64</td>\n",
       "      <td>1</td>\n",
       "      <td>Ryan Adams</td>\n",
       "    </tr>\n",
       "    <tr>\n",
       "      <th>1975</th>\n",
       "      <td>03d8f83e-a647-4bde-968a-189c0f147783</td>\n",
       "      <td>1</td>\n",
       "      <td>Set Your Goals</td>\n",
       "    </tr>\n",
       "    <tr>\n",
       "      <th>1976</th>\n",
       "      <td>6e4277d8-7b64-44a3-b823-13bd15114e22</td>\n",
       "      <td>0</td>\n",
       "      <td>Puscifer</td>\n",
       "    </tr>\n",
       "    <tr>\n",
       "      <th>1977</th>\n",
       "      <td>22a40b75-affc-4e69-8884-266d087e4751</td>\n",
       "      <td>0</td>\n",
       "      <td>Travis</td>\n",
       "    </tr>\n",
       "    <tr>\n",
       "      <th>1978</th>\n",
       "      <td>f59c5520-5f46-4d2c-b2c4-822eabf53419</td>\n",
       "      <td>0</td>\n",
       "      <td>Linkin Park</td>\n",
       "    </tr>\n",
       "    <tr>\n",
       "      <th>1979</th>\n",
       "      <td>ceafdf2f-bc18-4b99-8c71-d1834b0065c3</td>\n",
       "      <td>0</td>\n",
       "      <td>Cesária Évora</td>\n",
       "    </tr>\n",
       "    <tr>\n",
       "      <th>1980</th>\n",
       "      <td>ad279295-653f-42e1-9aaa-b731df2e78ba</td>\n",
       "      <td>1</td>\n",
       "      <td>Owl City</td>\n",
       "    </tr>\n",
       "    <tr>\n",
       "      <th>1981</th>\n",
       "      <td>5e6c760b-42e0-4df4-a221-0269355da00a</td>\n",
       "      <td>1</td>\n",
       "      <td>Dean Martin</td>\n",
       "    </tr>\n",
       "    <tr>\n",
       "      <th>1982</th>\n",
       "      <td>6ee8668b-b4e1-48cf-ba25-a6f7c8bf864d</td>\n",
       "      <td>0</td>\n",
       "      <td>Håkan Hellström</td>\n",
       "    </tr>\n",
       "    <tr>\n",
       "      <th>1983</th>\n",
       "      <td>fb7272ba-f130-4f0a-934d-6eeea4c18c9a</td>\n",
       "      <td>1</td>\n",
       "      <td>Al Green</td>\n",
       "    </tr>\n",
       "    <tr>\n",
       "      <th>1984</th>\n",
       "      <td>a63df8c3-28e4-41db-bac2-c6c6e8ff8f28</td>\n",
       "      <td>0</td>\n",
       "      <td>Type O Negative</td>\n",
       "    </tr>\n",
       "    <tr>\n",
       "      <th>1985</th>\n",
       "      <td>2f548675-008d-4332-876c-108b0c7ab9c5</td>\n",
       "      <td>4</td>\n",
       "      <td>Sia</td>\n",
       "    </tr>\n",
       "    <tr>\n",
       "      <th>1986</th>\n",
       "      <td>a436dd02-0549-4c91-b608-df451217fdeb</td>\n",
       "      <td>0</td>\n",
       "      <td>Parkway Drive</td>\n",
       "    </tr>\n",
       "    <tr>\n",
       "      <th>1987</th>\n",
       "      <td>6318e724-7e6b-4e41-a35b-080065077c80</td>\n",
       "      <td>4</td>\n",
       "      <td>Protest the Hero</td>\n",
       "    </tr>\n",
       "    <tr>\n",
       "      <th>1988</th>\n",
       "      <td>fbcd7b29-455f-49e6-9c4f-8249d20a055e</td>\n",
       "      <td>0</td>\n",
       "      <td>Seether</td>\n",
       "    </tr>\n",
       "    <tr>\n",
       "      <th>1989</th>\n",
       "      <td>349fd7a7-183b-4139-a4ee-1d9b7146f8a1</td>\n",
       "      <td>0</td>\n",
       "      <td>Timbuktu</td>\n",
       "    </tr>\n",
       "    <tr>\n",
       "      <th>1990</th>\n",
       "      <td>ab7ebf8c-059f-4071-93b1-dd3ae80d60b2</td>\n",
       "      <td>4</td>\n",
       "      <td>Metro Station</td>\n",
       "    </tr>\n",
       "    <tr>\n",
       "      <th>1991</th>\n",
       "      <td>ac9a487a-d9d2-4f27-bb23-0f4686488345</td>\n",
       "      <td>1</td>\n",
       "      <td>Lil Wayne</td>\n",
       "    </tr>\n",
       "    <tr>\n",
       "      <th>1992</th>\n",
       "      <td>69b39eab-6577-46a4-a9f5-817839092033</td>\n",
       "      <td>0</td>\n",
       "      <td>Kasabian</td>\n",
       "    </tr>\n",
       "    <tr>\n",
       "      <th>1993</th>\n",
       "      <td>309c62ba-7a22-4277-9f67-4a162526d18a</td>\n",
       "      <td>1</td>\n",
       "      <td>Beck</td>\n",
       "    </tr>\n",
       "    <tr>\n",
       "      <th>1994</th>\n",
       "      <td>e0953daa-860f-4dc8-9f1a-b12587cdaf17</td>\n",
       "      <td>1</td>\n",
       "      <td>Tortoise</td>\n",
       "    </tr>\n",
       "    <tr>\n",
       "      <th>1995</th>\n",
       "      <td>5a8688d2-696f-4060-9dd0-f772886ff95b</td>\n",
       "      <td>0</td>\n",
       "      <td>Six Feet Under</td>\n",
       "    </tr>\n",
       "    <tr>\n",
       "      <th>1996</th>\n",
       "      <td>ca5b38c2-f39d-45a4-ad3d-daf4448846ef</td>\n",
       "      <td>4</td>\n",
       "      <td>Howlin’ Wolf</td>\n",
       "    </tr>\n",
       "    <tr>\n",
       "      <th>1997</th>\n",
       "      <td>8974da95-e631-45aa-8fd7-aa0c2795f997</td>\n",
       "      <td>0</td>\n",
       "      <td>Harry Gregson-Williams</td>\n",
       "    </tr>\n",
       "    <tr>\n",
       "      <th>1998</th>\n",
       "      <td>8067c102-4996-42bc-9980-06ce2e644eae</td>\n",
       "      <td>1</td>\n",
       "      <td>Soul Coughing</td>\n",
       "    </tr>\n",
       "    <tr>\n",
       "      <th>1999</th>\n",
       "      <td>39c2a93d-9afa-4a22-9bba-c087ab056e1c</td>\n",
       "      <td>0</td>\n",
       "      <td>Jefferson Airplane</td>\n",
       "    </tr>\n",
       "  </tbody>\n",
       "</table>\n",
       "<p>2000 rows × 3 columns</p>\n",
       "</div>"
      ],
      "text/plain": [
       "                                    artist  cluster                     name\n",
       "0     03098741-08b3-4dd7-b3f6-1b0bfa2c879c        1                    Liars\n",
       "1     69c4cc43-8163-41c5-ac81-30946d27bb69        4          CunninLynguists\n",
       "2     7a2e6b55-f149-4e74-be6a-30a1b1a387bb        0      The Desert Sessions\n",
       "3     7002bf88-1269-4965-a772-4ba1e7a91eaa        4              Glenn Gould\n",
       "4     dbf7c761-e332-467b-b4d9-aafe06bbcf8f        1  G. Love & Special Sauce\n",
       "5     a3cb23fc-acd3-4ce0-8f36-1e5aa6a18432        4                       U2\n",
       "6     8b0f05ce-354e-4121-9e0b-8b4732ea844f        4                   Juanes\n",
       "7     8363f94f-fd86-41b8-a56b-26eacb34f499        0                Summoning\n",
       "8     2e41ae9c-afd2-4f20-8f1e-17281ce9b472        4             Gwen Stefani\n",
       "9     c17f08f4-2542-46fb-97f3-3202d60c225a        0             Fear Factory\n",
       "10    4bd95eea-b9f6-4d70-a36c-cfea77431553        4          Alice in Chains\n",
       "11    f467181e-d5e0-4285-b47e-e853dcc89ee7        1                  Ratatat\n",
       "12    4d9fb84a-8104-48c1-aa16-21f53c9053cc        0                   Ignite\n",
       "13    3ff72a59-f39d-411d-9f93-2d4a86413013        1      The Magnetic Fields\n",
       "14    5f58803e-8c4c-478e-8b51-477f38483ede        0                  Madness\n",
       "15    ff9deaae-da4f-42b7-a19e-36fedd3fc706        4              Ben Kweller\n",
       "16    3231d12a-c42d-4977-b2a4-a6e4d87978e1        0                    Tosca\n",
       "17    756cf672-d4ae-4470-a3af-a43d776a211d        1            Saul Williams\n",
       "18    8ca01f46-53ac-4af2-8516-55a909c0905e        4      My Bloody Valentine\n",
       "19    a0ef7e1d-44ff-4039-9435-7d5fefdeecc9        1                [theatre]\n",
       "20    c83907ee-8b5a-4547-8f68-96572243ea7f        1          Hot Water Music\n",
       "21    dbbc47a5-1338-4830-9298-a8d0b11c0a46        0               Joss Stone\n",
       "22    f4a31f0a-51dd-4fa7-986d-3095c40c5ed9        0              Evanescence\n",
       "23    a9965383-6bdd-49a3-a4bb-4f8008b9d80e        4            Stephen Lynch\n",
       "24    c1e5344e-1bff-4727-9417-a4f55e41b5ff        0        Loreena McKennitt\n",
       "25    b5a31e9b-1fa2-45f9-91f5-b3a25fb38038        4          Municipal Waste\n",
       "26    96c1edac-1011-4cb8-882c-27248de35071        4               The Cramps\n",
       "27    370bd5a3-4abf-4356-8576-3a8fc0c11d65        4           Above & Beyond\n",
       "28    1a120ec5-35b3-4f3e-aa49-7201550d9feb        4                     RJD2\n",
       "29    2819834e-4e08-47b0-a2c4-b7672318e8f0        4                The Byrds\n",
       "...                                    ...      ...                      ...\n",
       "1970  5d02f264-e225-41ff-83f7-d9b1f0b1874a        4        Simon & Garfunkel\n",
       "1971  e940d7a3-01d0-468c-86ea-5dc4d89dcf80        1               Black Lips\n",
       "1972  5385c403-1c49-4f2f-9b98-7085b5c84371        1                      NaN\n",
       "1973  87225a21-c925-41cd-852f-be4b052d0824        4                      AFX\n",
       "1974  c80f38a6-9980-485d-997c-5c1a9cbd0d64        1               Ryan Adams\n",
       "1975  03d8f83e-a647-4bde-968a-189c0f147783        1           Set Your Goals\n",
       "1976  6e4277d8-7b64-44a3-b823-13bd15114e22        0                 Puscifer\n",
       "1977  22a40b75-affc-4e69-8884-266d087e4751        0                   Travis\n",
       "1978  f59c5520-5f46-4d2c-b2c4-822eabf53419        0              Linkin Park\n",
       "1979  ceafdf2f-bc18-4b99-8c71-d1834b0065c3        0            Cesária Évora\n",
       "1980  ad279295-653f-42e1-9aaa-b731df2e78ba        1                 Owl City\n",
       "1981  5e6c760b-42e0-4df4-a221-0269355da00a        1              Dean Martin\n",
       "1982  6ee8668b-b4e1-48cf-ba25-a6f7c8bf864d        0          Håkan Hellström\n",
       "1983  fb7272ba-f130-4f0a-934d-6eeea4c18c9a        1                 Al Green\n",
       "1984  a63df8c3-28e4-41db-bac2-c6c6e8ff8f28        0          Type O Negative\n",
       "1985  2f548675-008d-4332-876c-108b0c7ab9c5        4                      Sia\n",
       "1986  a436dd02-0549-4c91-b608-df451217fdeb        0            Parkway Drive\n",
       "1987  6318e724-7e6b-4e41-a35b-080065077c80        4         Protest the Hero\n",
       "1988  fbcd7b29-455f-49e6-9c4f-8249d20a055e        0                  Seether\n",
       "1989  349fd7a7-183b-4139-a4ee-1d9b7146f8a1        0                 Timbuktu\n",
       "1990  ab7ebf8c-059f-4071-93b1-dd3ae80d60b2        4            Metro Station\n",
       "1991  ac9a487a-d9d2-4f27-bb23-0f4686488345        1                Lil Wayne\n",
       "1992  69b39eab-6577-46a4-a9f5-817839092033        0                 Kasabian\n",
       "1993  309c62ba-7a22-4277-9f67-4a162526d18a        1                     Beck\n",
       "1994  e0953daa-860f-4dc8-9f1a-b12587cdaf17        1                 Tortoise\n",
       "1995  5a8688d2-696f-4060-9dd0-f772886ff95b        0           Six Feet Under\n",
       "1996  ca5b38c2-f39d-45a4-ad3d-daf4448846ef        4             Howlin’ Wolf\n",
       "1997  8974da95-e631-45aa-8fd7-aa0c2795f997        0   Harry Gregson-Williams\n",
       "1998  8067c102-4996-42bc-9980-06ce2e644eae        1            Soul Coughing\n",
       "1999  39c2a93d-9afa-4a22-9bba-c087ab056e1c        0       Jefferson Airplane\n",
       "\n",
       "[2000 rows x 3 columns]"
      ]
     },
     "execution_count": 20,
     "metadata": {},
     "output_type": "execute_result"
    }
   ],
   "source": [
    "artists"
   ]
  },
  {
   "cell_type": "code",
   "execution_count": 23,
   "metadata": {
    "collapsed": false
   },
   "outputs": [],
   "source": [
    "artistclusters = pd.Series(artists[\"cluster\"].values,index=artists.artist).to_dict()"
   ]
  },
  {
   "cell_type": "code",
   "execution_count": 33,
   "metadata": {
    "collapsed": false
   },
   "outputs": [],
   "source": [
    "mask = np.random.binomial(1, .6, size=len(fulldf)).astype(bool)\n",
    "traindf = fulldf[mask]\n",
    "valdf = fulldf[~mask]"
   ]
  },
  {
   "cell_type": "code",
   "execution_count": 196,
   "metadata": {
    "collapsed": true
   },
   "outputs": [],
   "source": [
    "traindf.to_csv(\"traindf.csv\", index=False)\n",
    "valdf.to_csv(\"valdf.csv\", index=False)"
   ]
  },
  {
   "cell_type": "code",
   "execution_count": 195,
   "metadata": {
    "collapsed": false
   },
   "outputs": [
    {
     "data": {
      "text/html": [
       "<div>\n",
       "<table border=\"1\" class=\"dataframe\">\n",
       "  <thead>\n",
       "    <tr style=\"text-align: right;\">\n",
       "      <th></th>\n",
       "      <th>user</th>\n",
       "      <th>artist</th>\n",
       "      <th>plays</th>\n",
       "    </tr>\n",
       "  </thead>\n",
       "  <tbody>\n",
       "    <tr>\n",
       "      <th>2</th>\n",
       "      <td>da9cf3f557161d54b76f24db64be9cc76db008e3</td>\n",
       "      <td>eeb1195b-f213-4ce1-b28c-8565211f8e43</td>\n",
       "      <td>708</td>\n",
       "    </tr>\n",
       "    <tr>\n",
       "      <th>4</th>\n",
       "      <td>b85fcaef67d2669cd99b334b5e8c8705263db2cf</td>\n",
       "      <td>a3cb23fc-acd3-4ce0-8f36-1e5aa6a18432</td>\n",
       "      <td>220</td>\n",
       "    </tr>\n",
       "    <tr>\n",
       "      <th>5</th>\n",
       "      <td>feed7a0dc74c5251283a1505adf453a2061d08f7</td>\n",
       "      <td>1cc5adcd-1422-4b5c-a3cd-3ecd4f43f506</td>\n",
       "      <td>2113</td>\n",
       "    </tr>\n",
       "    <tr>\n",
       "      <th>7</th>\n",
       "      <td>5641e1e6f04868a61dc29f7227e34f4640163e9b</td>\n",
       "      <td>832a43c7-aa7d-439b-a6b4-4f1afa671c24</td>\n",
       "      <td>305</td>\n",
       "    </tr>\n",
       "    <tr>\n",
       "      <th>8</th>\n",
       "      <td>9f748976d303db79f61bf570d9549d6335b11b0e</td>\n",
       "      <td>2fddb92d-24b2-46a5-bf28-3aed46f4684c</td>\n",
       "      <td>705</td>\n",
       "    </tr>\n",
       "  </tbody>\n",
       "</table>\n",
       "</div>"
      ],
      "text/plain": [
       "                                       user  \\\n",
       "2  da9cf3f557161d54b76f24db64be9cc76db008e3   \n",
       "4  b85fcaef67d2669cd99b334b5e8c8705263db2cf   \n",
       "5  feed7a0dc74c5251283a1505adf453a2061d08f7   \n",
       "7  5641e1e6f04868a61dc29f7227e34f4640163e9b   \n",
       "8  9f748976d303db79f61bf570d9549d6335b11b0e   \n",
       "\n",
       "                                 artist  plays  \n",
       "2  eeb1195b-f213-4ce1-b28c-8565211f8e43    708  \n",
       "4  a3cb23fc-acd3-4ce0-8f36-1e5aa6a18432    220  \n",
       "5  1cc5adcd-1422-4b5c-a3cd-3ecd4f43f506   2113  \n",
       "7  832a43c7-aa7d-439b-a6b4-4f1afa671c24    305  \n",
       "8  2fddb92d-24b2-46a5-bf28-3aed46f4684c    705  "
      ]
     },
     "execution_count": 195,
     "metadata": {},
     "output_type": "execute_result"
    }
   ],
   "source": [
    "valdf.head()"
   ]
  },
  {
   "cell_type": "code",
   "execution_count": 34,
   "metadata": {
    "collapsed": false
   },
   "outputs": [],
   "source": [
    "train_dict = {}\n",
    "for row in traindf.values:\n",
    "    user = row[0]\n",
    "    artist = row[1]\n",
    "    plays = row[2]\n",
    "    cluster = artistclusters[artist]\n",
    "    \n",
    "    if user not in train_dict:\n",
    "        train_dict[user] = {\"plays\": {},\n",
    "                            \"clusters\": [[], [], [], [], []]}\n",
    "    train_dict[user][\"plays\"][artist] = plays\n",
    "    train_dict[user][\"clusters\"][cluster].append(plays)\n",
    "    "
   ]
  },
  {
   "cell_type": "markdown",
   "metadata": {},
   "source": [
    "## Testing Accuracy"
   ]
  },
  {
   "cell_type": "code",
   "execution_count": 35,
   "metadata": {
    "collapsed": false
   },
   "outputs": [
    {
     "data": {
      "text/html": [
       "<div>\n",
       "<table border=\"1\" class=\"dataframe\">\n",
       "  <thead>\n",
       "    <tr style=\"text-align: right;\">\n",
       "      <th></th>\n",
       "      <th>user</th>\n",
       "      <th>artist</th>\n",
       "      <th>plays</th>\n",
       "    </tr>\n",
       "  </thead>\n",
       "  <tbody>\n",
       "    <tr>\n",
       "      <th>2</th>\n",
       "      <td>da9cf3f557161d54b76f24db64be9cc76db008e3</td>\n",
       "      <td>eeb1195b-f213-4ce1-b28c-8565211f8e43</td>\n",
       "      <td>708</td>\n",
       "    </tr>\n",
       "    <tr>\n",
       "      <th>4</th>\n",
       "      <td>b85fcaef67d2669cd99b334b5e8c8705263db2cf</td>\n",
       "      <td>a3cb23fc-acd3-4ce0-8f36-1e5aa6a18432</td>\n",
       "      <td>220</td>\n",
       "    </tr>\n",
       "    <tr>\n",
       "      <th>5</th>\n",
       "      <td>feed7a0dc74c5251283a1505adf453a2061d08f7</td>\n",
       "      <td>1cc5adcd-1422-4b5c-a3cd-3ecd4f43f506</td>\n",
       "      <td>2113</td>\n",
       "    </tr>\n",
       "    <tr>\n",
       "      <th>7</th>\n",
       "      <td>5641e1e6f04868a61dc29f7227e34f4640163e9b</td>\n",
       "      <td>832a43c7-aa7d-439b-a6b4-4f1afa671c24</td>\n",
       "      <td>305</td>\n",
       "    </tr>\n",
       "    <tr>\n",
       "      <th>8</th>\n",
       "      <td>9f748976d303db79f61bf570d9549d6335b11b0e</td>\n",
       "      <td>2fddb92d-24b2-46a5-bf28-3aed46f4684c</td>\n",
       "      <td>705</td>\n",
       "    </tr>\n",
       "  </tbody>\n",
       "</table>\n",
       "</div>"
      ],
      "text/plain": [
       "                                       user  \\\n",
       "2  da9cf3f557161d54b76f24db64be9cc76db008e3   \n",
       "4  b85fcaef67d2669cd99b334b5e8c8705263db2cf   \n",
       "5  feed7a0dc74c5251283a1505adf453a2061d08f7   \n",
       "7  5641e1e6f04868a61dc29f7227e34f4640163e9b   \n",
       "8  9f748976d303db79f61bf570d9549d6335b11b0e   \n",
       "\n",
       "                                 artist  plays  \n",
       "2  eeb1195b-f213-4ce1-b28c-8565211f8e43    708  \n",
       "4  a3cb23fc-acd3-4ce0-8f36-1e5aa6a18432    220  \n",
       "5  1cc5adcd-1422-4b5c-a3cd-3ecd4f43f506   2113  \n",
       "7  832a43c7-aa7d-439b-a6b4-4f1afa671c24    305  \n",
       "8  2fddb92d-24b2-46a5-bf28-3aed46f4684c    705  "
      ]
     },
     "execution_count": 35,
     "metadata": {},
     "output_type": "execute_result"
    }
   ],
   "source": [
    "valdf.head()"
   ]
  },
  {
   "cell_type": "code",
   "execution_count": 39,
   "metadata": {
    "collapsed": false
   },
   "outputs": [
    {
     "data": {
      "text/plain": [
       "233282"
      ]
     },
     "execution_count": 39,
     "metadata": {},
     "output_type": "execute_result"
    }
   ],
   "source": [
    "len(train_dict.keys())"
   ]
  },
  {
   "cell_type": "code",
   "execution_count": 43,
   "metadata": {
    "collapsed": false
   },
   "outputs": [
    {
     "name": "stdout",
     "output_type": "stream",
     "text": [
      "{'clusters': [[264, 406], [318, 2079, 190], [], [], [442, 625, 955, 240, 317, 977, 327, 218, 157, 682]], 'plays': {'c842d29f-a297-48cd-bb71-4f77fd672b16': 682, '648615ca-ca74-460d-928a-2bae67ae6d14': 264, 'bbd2ffd7-17f4-4506-8572-c1ea58c3f9a8': 406, 'ba99a190-6065-4930-be3d-55ecc48e365d': 317, '14387b0f-765c-4852-852f-135335790466': 977, '4449ccf6-c948-4d33-aa97-b6ad98ce4b5b': 327, '8475297d-fb78-4630-8d74-9b87b6bb7cc8': 318, 'eaf6a7ca-105d-4a94-ba02-8c3e4040319a': 190, '84eac621-1c5a-49a1-9500-555099c6e184': 2079, 'af37c51c-0790-4a29-b995-456f98a6b8c9': 442, '766a2b45-441f-4096-af05-dbbca9518c9d': 157, '3c0eb318-d2ba-45aa-9077-b83746cc56da': 240, 'eddc0911-21fc-4327-ab90-ccc459ce1ef7': 955, 'c485632c-b784-4ee9-8ea1-c5fb365681fc': 218, '5441c29d-3602-4898-b1a1-b77fa23b8e50': 625}}\n"
     ]
    },
    {
     "data": {
      "text/plain": [
       "1"
      ]
     },
     "execution_count": 43,
     "metadata": {},
     "output_type": "execute_result"
    }
   ],
   "source": [
    "u = \"feed7a0dc74c5251283a1505adf453a2061d08f7\"\n",
    "a = \"1cc5adcd-1422-4b5c-a3cd-3ecd4f43f506\"\n",
    "print train_dict[u]\n",
    "artistclusters[a]"
   ]
  },
  {
   "cell_type": "code",
   "execution_count": 46,
   "metadata": {
    "collapsed": false
   },
   "outputs": [
    {
     "data": {
      "text/plain": [
       "327.0"
      ]
     },
     "execution_count": 46,
     "metadata": {},
     "output_type": "execute_result"
    }
   ],
   "source": [
    "np.median(train_dict[u][\"plays\"].values())"
   ]
  },
  {
   "cell_type": "code",
   "execution_count": 187,
   "metadata": {
    "collapsed": true
   },
   "outputs": [],
   "source": [
    "def test_accuracy(user, artist, threshold):\n",
    "    cluster = artistclusters[artist]\n",
    "    try:\n",
    "        user_median = np.median(train_dict[user][\"plays\"].values())\n",
    "        cluster_median = user_median\n",
    "        cluster_vals = train_dict[user][\"clusters\"][cluster]\n",
    "        if len(cluster_vals) >= threshold:\n",
    "            cluster_median = np.median(cluster_vals)\n",
    "\n",
    "        return user_median, cluster_median\n",
    "    except:\n",
    "        return 118, 118"
   ]
  },
  {
   "cell_type": "code",
   "execution_count": 58,
   "metadata": {
    "collapsed": false
   },
   "outputs": [
    {
     "data": {
      "text/plain": [
       "user      da9cf3f557161d54b76f24db64be9cc76db008e3\n",
       "artist        eeb1195b-f213-4ce1-b28c-8565211f8e43\n",
       "plays                                          708\n",
       "Name: 2, dtype: object"
      ]
     },
     "execution_count": 58,
     "metadata": {},
     "output_type": "execute_result"
    }
   ],
   "source": [
    "j = valdf.iterrows()\n",
    "next(j)[1]"
   ]
  },
  {
   "cell_type": "code",
   "execution_count": 182,
   "metadata": {
    "collapsed": false
   },
   "outputs": [
    {
     "name": "stdout",
     "output_type": "stream",
     "text": [
      "6\n",
      "53 100.5 71.5 29.0\n"
     ]
    }
   ],
   "source": [
    "row = next(j)[1]\n",
    "actual = row[\"plays\"]\n",
    "user, cluster = test_accuracy(row[\"user\"], row[\"artist\"])\n",
    "abs(actual - user) - abs(actual - cluster)\n",
    "print actual, user, cluster, abs(actual - user) - abs(actual - cluster)"
   ]
  },
  {
   "cell_type": "code",
   "execution_count": 192,
   "metadata": {
    "collapsed": false
   },
   "outputs": [
    {
     "name": "stdout",
     "output_type": "stream",
     "text": [
      "1663904\n",
      "0 10000 20000 30000 40000 50000 60000 70000 80000 90000 100000 110000 120000 130000 140000 150000 160000 170000 180000 190000 200000 210000 220000 230000 240000 250000 260000 270000 280000 290000 300000 310000 320000 330000 340000 350000 360000 370000 380000 390000 400000 410000 420000 430000 440000 450000 460000 470000 480000 490000 500000 510000 520000 530000 540000 550000 560000 570000 580000 590000 600000 610000 620000 630000 640000 650000 660000 670000 680000 690000 700000 710000 720000 730000 740000 750000 760000 770000 780000 790000 800000 810000 820000 830000 840000 850000 860000 870000 880000 890000 900000 910000 920000 930000 940000 950000 960000 970000 980000 990000 1000000 1010000 1020000 1030000 1040000 1050000 1060000 1070000 1080000 1090000 1100000 1110000 1120000 1130000 1140000 1150000 1160000 1170000 1180000 1190000 1200000 1210000 1220000 1230000 1240000 1250000 1260000 1270000 1280000 1290000 1300000 1310000 1320000 1330000 1340000 1350000 1360000 1370000 1380000 1390000 1400000 1410000 1420000 1430000 1440000 1450000 1460000 1470000 1480000 1490000 1500000 1510000 1520000 1530000 1540000 1550000 1560000 1570000 1580000 1590000 1600000 1610000 1620000 1630000 1640000 1650000 1660000\n"
     ]
    }
   ],
   "source": [
    "preds = []\n",
    "print valdf.shape[0]\n",
    "for i, row in enumerate(valdf.iterrows()):\n",
    "    if i % 10000 == 0:\n",
    "        print i,\n",
    "    a = row[1][\"artist\"]\n",
    "    u = row[1][\"user\"]\n",
    "    actual = row[1][\"plays\"]\n",
    "    \n",
    "    user, cluster = test_accuracy(u, a, 10)\n",
    "    preds.append(abs(actual - user) - abs(actual - cluster))"
   ]
  },
  {
   "cell_type": "code",
   "execution_count": 193,
   "metadata": {
    "collapsed": false
   },
   "outputs": [
    {
     "data": {
      "text/plain": [
       "-239750.5"
      ]
     },
     "execution_count": 193,
     "metadata": {},
     "output_type": "execute_result"
    }
   ],
   "source": [
    "sum(preds)"
   ]
  },
  {
   "cell_type": "code",
   "execution_count": null,
   "metadata": {
    "collapsed": true
   },
   "outputs": [],
   "source": []
  }
 ],
 "metadata": {
  "kernelspec": {
   "display_name": "Python 2",
   "language": "python",
   "name": "python2"
  },
  "language_info": {
   "codemirror_mode": {
    "name": "ipython",
    "version": 2
   },
   "file_extension": ".py",
   "mimetype": "text/x-python",
   "name": "python",
   "nbconvert_exporter": "python",
   "pygments_lexer": "ipython2",
   "version": "2.7.10"
  }
 },
 "nbformat": 4,
 "nbformat_minor": 0
}
