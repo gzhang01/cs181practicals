{
 "cells": [
  {
   "cell_type": "code",
   "execution_count": 1,
   "metadata": {
    "collapsed": false
   },
   "outputs": [],
   "source": [
    "import pandas as pd\n",
    "import numpy as np\n",
    "import math\n",
    "from rdkit import Chem\n",
    "from rdkit.Chem import ChemicalFeatures\n",
    "from rdkit import RDConfig\n",
    "import os"
   ]
  },
  {
   "cell_type": "code",
   "execution_count": 58,
   "metadata": {
    "collapsed": false
   },
   "outputs": [],
   "source": [
    "# Import data\n",
    "data = pd.read_csv(\"train_small.csv\")"
   ]
  },
  {
   "cell_type": "code",
   "execution_count": 3,
   "metadata": {
    "collapsed": false
   },
   "outputs": [],
   "source": [
    "fdefName = os.path.join(RDConfig.RDDataDir,'BaseFeatures.fdef')\n",
    "factory = ChemicalFeatures.BuildFeatureFactory(fdefName)"
   ]
  },
  {
   "cell_type": "code",
   "execution_count": 6,
   "metadata": {
    "collapsed": false
   },
   "outputs": [
    {
     "data": {
      "text/plain": [
       "'c1ccc(o1)-c1ccc(s1)-c1cnc(-c2scc3[se]ccc23)c2nsnc12'"
      ]
     },
     "execution_count": 6,
     "metadata": {},
     "output_type": "execute_result"
    }
   ],
   "source": [
    "data['smiles'][0]"
   ]
  },
  {
   "cell_type": "code",
   "execution_count": 59,
   "metadata": {
    "collapsed": false,
    "scrolled": true
   },
   "outputs": [
    {
     "ename": "AttributeError",
     "evalue": "'list' object has no attribute 'shape'",
     "output_type": "error",
     "traceback": [
      "\u001b[0;31m---------------------------------------------------------------------------\u001b[0m",
      "\u001b[0;31mAttributeError\u001b[0m                            Traceback (most recent call last)",
      "\u001b[0;32m<ipython-input-59-acb4d1de6870>\u001b[0m in \u001b[0;36m<module>\u001b[0;34m()\u001b[0m\n\u001b[1;32m     19\u001b[0m \u001b[0;31m#         print feats[i].GetFamily(), feats[i].GetType()\u001b[0m\u001b[0;34m\u001b[0m\u001b[0;34m\u001b[0m\u001b[0m\n\u001b[1;32m     20\u001b[0m \u001b[0;31m#     break\u001b[0m\u001b[0;34m\u001b[0m\u001b[0;34m\u001b[0m\u001b[0m\n\u001b[0;32m---> 21\u001b[0;31m \u001b[0;32mprint\u001b[0m \u001b[0mfeatures\u001b[0m\u001b[0;34m.\u001b[0m\u001b[0mshape\u001b[0m\u001b[0;34m\u001b[0m\u001b[0m\n\u001b[0m",
      "\u001b[0;31mAttributeError\u001b[0m: 'list' object has no attribute 'shape'"
     ]
    }
   ],
   "source": [
    "features = [(0, \"gap\")]\n",
    "values = []\n",
    "for datum in xrange(len(data)):\n",
    "    m = Chem.MolFromSmiles(data['smiles'][datum])\n",
    "    feats = factory.GetFeaturesForMol(m)\n",
    "    row = [0 for i in xrange(len(features))]\n",
    "    row[0] = data['gap'][datum]\n",
    "    for i in xrange(len(feats)):\n",
    "        if (feats[i].GetFamily(), feats[i].GetType()) not in features:\n",
    "            features.append((feats[i].GetFamily(), feats[i].GetType()))\n",
    "            for r in xrange(len(values)):\n",
    "                values[r].append(0)\n",
    "            row.append(1)\n",
    "        else:\n",
    "            index = features.index((feats[i].GetFamily(), feats[i].GetType()))\n",
    "            row[index] += 1\n",
    "    values.append(row)\n",
    "#     for i in xrange(len(feats)):\n",
    "#         print feats[i].GetFamily(), feats[i].GetType()\n",
    "#     break\n",
    "print len(features)"
   ]
  },
  {
   "cell_type": "code",
   "execution_count": 61,
   "metadata": {
    "collapsed": false
   },
   "outputs": [
    {
     "data": {
      "text/plain": [
       "array([[ 1.19,  3.  ,  5.  , ...,  2.  ,  0.  ,  0.  ],\n",
       "       [ 1.6 ,  2.  ,  0.  , ...,  0.  ,  1.  ,  0.  ],\n",
       "       [ 1.49,  2.  ,  3.  , ...,  1.  ,  2.  ,  1.  ],\n",
       "       ..., \n",
       "       [ 2.12,  1.  ,  3.  , ...,  1.  ,  0.  ,  1.  ],\n",
       "       [ 1.91,  0.  ,  4.  , ...,  1.  ,  2.  ,  2.  ],\n",
       "       [ 1.35,  3.  ,  2.  , ...,  0.  ,  2.  ,  1.  ]])"
      ]
     },
     "execution_count": 61,
     "metadata": {},
     "output_type": "execute_result"
    }
   ],
   "source": [
    "np_values = np.array(values)\n",
    "np_values"
   ]
  },
  {
   "cell_type": "code",
   "execution_count": 62,
   "metadata": {
    "collapsed": false
   },
   "outputs": [
    {
     "data": {
      "text/plain": [
       "'gap, SingleAtomAcceptor, Arom5, Arom6, ThreeWayAttach, RH5_5, RH6_6, SingleAtomDonor, '"
      ]
     },
     "execution_count": 62,
     "metadata": {},
     "output_type": "execute_result"
    }
   ],
   "source": [
    "header = \"\"\n",
    "for i in xrange(len(features)):\n",
    "    header += features[i][1] + \", \"\n",
    "header"
   ]
  },
  {
   "cell_type": "code",
   "execution_count": 63,
   "metadata": {
    "collapsed": false
   },
   "outputs": [],
   "source": [
    "np.savetxt('new_features.csv', np_values, '%10.5f', ',', '\\n', header)"
   ]
  },
  {
   "cell_type": "code",
   "execution_count": 60,
   "metadata": {
    "collapsed": false
   },
   "outputs": [
    {
     "data": {
      "text/plain": [
       "8"
      ]
     },
     "execution_count": 60,
     "metadata": {},
     "output_type": "execute_result"
    }
   ],
   "source": []
  },
  {
   "cell_type": "code",
   "execution_count": null,
   "metadata": {
    "collapsed": true
   },
   "outputs": [],
   "source": []
  }
 ],
 "metadata": {
  "kernelspec": {
   "display_name": "Python 2",
   "language": "python",
   "name": "python2"
  },
  "language_info": {
   "codemirror_mode": {
    "name": "ipython",
    "version": 2
   },
   "file_extension": ".py",
   "mimetype": "text/x-python",
   "name": "python",
   "nbconvert_exporter": "python",
   "pygments_lexer": "ipython2",
   "version": "2.7.11"
  }
 },
 "nbformat": 4,
 "nbformat_minor": 0
}
