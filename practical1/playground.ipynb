{
 "cells": [
  {
   "cell_type": "code",
   "execution_count": 1,
   "metadata": {
    "collapsed": false
   },
   "outputs": [],
   "source": [
    "import pandas as pd\n",
    "import numpy as np\n",
    "import math\n",
    "from rdkit import Chem\n",
    "from rdkit.Chem import ChemicalFeatures\n",
    "from rdkit import RDConfig\n",
    "import os"
   ]
  },
  {
   "cell_type": "code",
   "execution_count": 95,
   "metadata": {
    "collapsed": false
   },
   "outputs": [],
   "source": [
    "# Import data\n",
    "data = pd.read_csv(\"train10000.csv\")"
   ]
  },
  {
   "cell_type": "code",
   "execution_count": 3,
   "metadata": {
    "collapsed": false
   },
   "outputs": [],
   "source": [
    "fdefName = os.path.join(RDConfig.RDDataDir,'BaseFeatures.fdef')\n",
    "factory = ChemicalFeatures.BuildFeatureFactory(fdefName)"
   ]
  },
  {
   "cell_type": "code",
   "execution_count": 6,
   "metadata": {
    "collapsed": false
   },
   "outputs": [
    {
     "data": {
      "text/plain": [
       "'c1ccc(o1)-c1ccc(s1)-c1cnc(-c2scc3[se]ccc23)c2nsnc12'"
      ]
     },
     "execution_count": 6,
     "metadata": {},
     "output_type": "execute_result"
    }
   ],
   "source": [
    "data['smiles'][0]"
   ]
  },
  {
   "cell_type": "code",
   "execution_count": 103,
   "metadata": {
    "collapsed": false,
    "scrolled": true
   },
   "outputs": [
    {
     "name": "stdout",
     "output_type": "stream",
     "text": [
      "0\n",
      "100\n",
      "200\n",
      "300\n",
      "400\n",
      "500\n",
      "600\n",
      "700\n",
      "800\n",
      "900\n",
      "1000\n",
      "1100\n",
      "1200\n",
      "1300\n",
      "1400\n",
      "1500\n",
      "1600\n",
      "1700\n",
      "1800\n",
      "1900\n",
      "2000\n",
      "2100\n",
      "2200\n",
      "2300\n",
      "2400\n",
      "2500\n",
      "2600\n",
      "2700\n",
      "2800\n",
      "2900\n",
      "3000\n",
      "3100\n",
      "3200\n",
      "3300\n",
      "3400\n",
      "3500\n",
      "3600\n",
      "3700\n",
      "3800\n",
      "3900\n",
      "4000\n",
      "4100\n",
      "4200\n",
      "4300\n",
      "4400\n",
      "4500\n",
      "4600\n",
      "4700\n",
      "4800\n",
      "4900\n",
      "5000\n",
      "5100\n",
      "5200\n",
      "5300\n",
      "5400\n",
      "5500\n",
      "5600\n",
      "5700\n",
      "5800\n",
      "5900\n",
      "6000\n",
      "6100\n",
      "6200\n",
      "6300\n",
      "6400\n",
      "6500\n",
      "6600\n",
      "6700\n",
      "6800\n",
      "6900\n",
      "7000\n",
      "7100\n",
      "7200\n",
      "7300\n",
      "7400\n",
      "7500\n",
      "7600\n",
      "7700\n",
      "7800\n",
      "7900\n",
      "8000\n",
      "8100\n",
      "8200\n",
      "8300\n",
      "8400\n",
      "8500\n",
      "8600\n",
      "8700\n",
      "8800\n",
      "8900\n",
      "9000\n",
      "9100\n",
      "9200\n",
      "9300\n",
      "9400\n",
      "9500\n",
      "9600\n",
      "9700\n",
      "9800\n",
      "9900\n",
      "10\n",
      "['gap', 'C', 'O', 'S', 'N', 'Se', rdkit.Chem.rdchem.BondType.AROMATIC, rdkit.Chem.rdchem.BondType.SINGLE, 'Si', rdkit.Chem.rdchem.BondType.DOUBLE]\n"
     ]
    }
   ],
   "source": [
    "features = [\"gap\"]\n",
    "values = []\n",
    "for datum in xrange(len(data)):\n",
    "    if datum % 100 == 0:\n",
    "        print datum\n",
    "    # Info about features\n",
    "#     m = Chem.MolFromSmiles(data['smiles'][datum])\n",
    "#     feats = factory.GetFeaturesForMol(m)\n",
    "    row = [0 for i in xrange(len(features))]\n",
    "    row[0] = data['gap'][datum]\n",
    "#     for i in xrange(len(feats)):\n",
    "#         if feats[i].GetType() not in features:\n",
    "#             features.append(feats[i].GetType())\n",
    "#             for r in xrange(len(values)):\n",
    "#                 values[r].append(0)\n",
    "#             row.append(1)\n",
    "#         else:\n",
    "#             index = features.index(feats[i].GetType())\n",
    "#             row[index] += 1\n",
    "\n",
    "    # Info about atoms\n",
    "    m = Chem.MolFromSmiles(data['smiles'][datum])\n",
    "    for atom in m.GetAtoms():\n",
    "        if (atom.GetSymbol()) not in features:\n",
    "            features.append(atom.GetSymbol())\n",
    "            for r in xrange(len(values)):\n",
    "                values[r].append(0)\n",
    "            row.append(1)\n",
    "        else:\n",
    "            index = features.index(atom.GetSymbol())\n",
    "            row[index] += 1\n",
    "    \n",
    "    bonds = m.GetBonds()\n",
    "    for bond in bonds:\n",
    "        if (bond.GetBondType()) not in features:\n",
    "            features.append(bond.GetBondType())\n",
    "            for r in xrange(len(values)):\n",
    "                values[r].append(0)\n",
    "            row.append(1)\n",
    "        else:\n",
    "            index = features.index(bond.GetBondType())\n",
    "            row[index] += 1\n",
    "    values.append(row)\n",
    "    \n",
    "#     for i in xrange(len(features)):\n",
    "#         print features[i]\n",
    "#     break\n",
    "print len(features)\n",
    "print features"
   ]
  },
  {
   "cell_type": "code",
   "execution_count": 104,
   "metadata": {
    "collapsed": false
   },
   "outputs": [
    {
     "data": {
      "text/plain": [
       "array([[  1.19,  19.  ,   1.  , ...,   3.  ,   0.  ,   0.  ],\n",
       "       [  1.6 ,  21.  ,   0.  , ...,   9.  ,   2.  ,   5.  ],\n",
       "       [  1.49,  21.  ,   0.  , ...,   7.  ,   1.  ,   1.  ],\n",
       "       ..., \n",
       "       [  2.12,  20.  ,   0.  , ...,   6.  ,   0.  ,   2.  ],\n",
       "       [  1.91,  25.  ,   1.  , ...,   7.  ,   1.  ,   2.  ],\n",
       "       [  1.35,  22.  ,   0.  , ...,   6.  ,   1.  ,   2.  ]])"
      ]
     },
     "execution_count": 104,
     "metadata": {},
     "output_type": "execute_result"
    }
   ],
   "source": [
    "np_values = np.array(values)\n",
    "np_values"
   ]
  },
  {
   "cell_type": "code",
   "execution_count": 106,
   "metadata": {
    "collapsed": false
   },
   "outputs": [
    {
     "data": {
      "text/plain": [
       "'gap, C, O, S, N, Se, AROMATIC, SINGLE, Si, DOUBLE, '"
      ]
     },
     "execution_count": 106,
     "metadata": {},
     "output_type": "execute_result"
    }
   ],
   "source": [
    "header = \"\"\n",
    "for i in xrange(len(features)):\n",
    "    header += str(features[i]) + \", \"\n",
    "header"
   ]
  },
  {
   "cell_type": "code",
   "execution_count": 107,
   "metadata": {
    "collapsed": false
   },
   "outputs": [],
   "source": [
    "np.savetxt('new_features.csv', np_values, '%10.5f', ',', '\\n', header)"
   ]
  },
  {
   "cell_type": "code",
   "execution_count": null,
   "metadata": {
    "collapsed": true
   },
   "outputs": [],
   "source": []
  }
 ],
 "metadata": {
  "kernelspec": {
   "display_name": "Python 2",
   "language": "python",
   "name": "python2"
  },
  "language_info": {
   "codemirror_mode": {
    "name": "ipython",
    "version": 2
   },
   "file_extension": ".py",
   "mimetype": "text/x-python",
   "name": "python",
   "nbconvert_exporter": "python",
   "pygments_lexer": "ipython2",
   "version": "2.7.11"
  }
 },
 "nbformat": 4,
 "nbformat_minor": 0
}
