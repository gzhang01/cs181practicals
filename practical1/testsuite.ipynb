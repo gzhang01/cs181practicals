{
 "cells": [
  {
   "cell_type": "code",
   "execution_count": 1,
   "metadata": {
    "collapsed": false
   },
   "outputs": [
    {
     "name": "stderr",
     "output_type": "stream",
     "text": [
      "/Users/George/miniconda2/lib/python2.7/site-packages/matplotlib/font_manager.py:273: UserWarning: Matplotlib is building the font cache using fc-list. This may take a moment.\n",
      "  warnings.warn('Matplotlib is building the font cache using fc-list. This may take a moment.')\n"
     ]
    }
   ],
   "source": [
    "import pandas as pd\n",
    "import numpy as np\n",
    "import matplotlib.pyplot as plt\n",
    "from sklearn.linear_model import LinearRegression\n",
    "from sklearn.ensemble import RandomForestRegressor\n",
    "import math"
   ]
  },
  {
   "cell_type": "code",
   "execution_count": 30,
   "metadata": {
    "collapsed": false
   },
   "outputs": [],
   "source": [
    "# Import data and drop smiles column\n",
    "data = pd.read_csv(\"train_small.csv\")\n",
    "data = data.drop(['smiles'], axis=1)"
   ]
  },
  {
   "cell_type": "code",
   "execution_count": 27,
   "metadata": {
    "collapsed": true
   },
   "outputs": [],
   "source": [
    "# Calculates the RMSE given a vector of predictions and a vector of observations\n",
    "# pred and obs must be of same size\n",
    "def calc_RMSE(pred, obs):\n",
    "    assert (pred.shape[0] == obs.shape[0])\n",
    "    return math.sqrt(sum((pred - obs) ** 2) / obs.shape[0])"
   ]
  },
  {
   "cell_type": "code",
   "execution_count": 28,
   "metadata": {
    "collapsed": true
   },
   "outputs": [],
   "source": [
    "# Perform cross validation with n blocks\n",
    "def cross_validation(n):\n",
    "    # Determines size of blocks and indices to start\n",
    "    dataSize = data.shape[0]\n",
    "    blockSize = dataSize / n\n",
    "    \n",
    "    # RMSE values for each test\n",
    "    RMSEs = []\n",
    "    \n",
    "    for i in xrange(n):\n",
    "        # Determine start and end values for test data\n",
    "        start = i * blockSize\n",
    "        end = start + blockSize\n",
    "        \n",
    "        # Training data\n",
    "        X_train = pd.concat((data.iloc[0:start], data.iloc[end:dataSize]), axis=0)\n",
    "        # Testing data\n",
    "        X_test = data.iloc[start:end]\n",
    "#         print X_train.shape[0], X_test.shape[0]\n",
    "        \n",
    "        # Store gap values\n",
    "        Y_train = X_train.gap.values\n",
    "        X_train = X_train.drop(['gap'], axis=1)\n",
    "        Y_test = X_test.gap.values\n",
    "        X_test = X_test.drop(['gap'], axis=1)\n",
    "\n",
    "        # Training / testing values\n",
    "        vals_train = X_train.values\n",
    "        vals_test = X_test.values\n",
    "        \n",
    "        # Training: EDIT THIS FOR NEW MODELS\n",
    "        LR = LinearRegression()\n",
    "        LR.fit(vals_train, Y_train)\n",
    "        \n",
    "        # Predict based on test data\n",
    "        LR_pred = LR.predict(vals_test)\n",
    "        \n",
    "        # Append RMSE\n",
    "        RMSEs.append(calc_RMSE(LR_pred, Y_test))\n",
    "        \n",
    "#     print RMSEs\n",
    "    print \"Mean: \" + str(np.mean(RMSEs))\n",
    "    print \"Variance: \" + str(np.var(RMSEs))\n",
    "    print \"Std Dev: \" + str(np.std(RMSEs))"
   ]
  },
  {
   "cell_type": "code",
   "execution_count": 37,
   "metadata": {
    "collapsed": false
   },
   "outputs": [
    {
     "name": "stdout",
     "output_type": "stream",
     "text": [
      "Mean: 0.354615421221\n",
      "Variance: 0.00120283934348\n",
      "Std Dev: 0.0346819743307\n"
     ]
    }
   ],
   "source": [
    "# Baseline Linear Regression\n",
    "cross_validation(5)"
   ]
  },
  {
   "cell_type": "code",
   "execution_count": null,
   "metadata": {
    "collapsed": true
   },
   "outputs": [],
   "source": []
  }
 ],
 "metadata": {
  "kernelspec": {
   "display_name": "Python 2",
   "language": "python",
   "name": "python2"
  },
  "language_info": {
   "codemirror_mode": {
    "name": "ipython",
    "version": 2
   },
   "file_extension": ".py",
   "mimetype": "text/x-python",
   "name": "python",
   "nbconvert_exporter": "python",
   "pygments_lexer": "ipython2",
   "version": "2.7.11"
  }
 },
 "nbformat": 4,
 "nbformat_minor": 0
}
